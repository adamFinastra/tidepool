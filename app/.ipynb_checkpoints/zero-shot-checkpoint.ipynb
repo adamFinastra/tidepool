{
 "cells": [
  {
   "cell_type": "code",
   "execution_count": 1,
   "id": "b414614b",
   "metadata": {},
   "outputs": [],
   "source": [
    "from transformers import AutoModelForSequenceClassification, AutoTokenizer\n",
    "from transformers import pipeline\n",
    "import pandas as pd\n",
    "import numpy as np\n",
    "from ganacheconnector import contractConnector\n",
    "import json\n",
    "from web3 import Web3, HTTPProvider"
   ]
  },
  {
   "cell_type": "code",
   "execution_count": 2,
   "id": "3d693ab6",
   "metadata": {},
   "outputs": [],
   "source": [
    "blockchain_address = 'http://127.0.0.1:8545'\n",
    "compiled_contract_path = '../build/contracts/P2PTest.json'\n",
    "deployed_contract_address = '0x6d72dC5be82840419bde6758D04Cc37102eB0473'\n",
    "defaultAccount = 0\n",
    "\n",
    "web3 = Web3(HTTPProvider(blockchain_address))\n",
    "web3.eth.accounts[defaultAccount]\n",
    "web3.eth.defaultAccount = web3.eth.accounts[defaultAccount]\n",
    "c = contractConnector(blockchain_address,compiled_contract_path,deployed_contract_address,defaultAccount)"
   ]
  },
  {
   "cell_type": "code",
   "execution_count": 6,
   "id": "86cb0e21",
   "metadata": {},
   "outputs": [],
   "source": [
    "classifier = pipeline(\"zero-shot-classification\",model=\"facebook/bart-large-mnli\")\n",
    "categories = ['grocery', 'medical bills', 'home improvement', 'debt', 'Job Loss', 'auto repair', 'pet care', 'funeral', 'business needs']"
   ]
  },
  {
   "cell_type": "code",
   "execution_count": 5,
   "id": "4fbab303",
   "metadata": {},
   "outputs": [
    {
     "data": {
      "text/html": [
       "<div>\n",
       "<style scoped>\n",
       "    .dataframe tbody tr th:only-of-type {\n",
       "        vertical-align: middle;\n",
       "    }\n",
       "\n",
       "    .dataframe tbody tr th {\n",
       "        vertical-align: top;\n",
       "    }\n",
       "\n",
       "    .dataframe thead th {\n",
       "        text-align: right;\n",
       "    }\n",
       "</style>\n",
       "<table border=\"1\" class=\"dataframe\">\n",
       "  <thead>\n",
       "    <tr style=\"text-align: right;\">\n",
       "      <th></th>\n",
       "      <th>shortDescription</th>\n",
       "      <th>loanDescription</th>\n",
       "      <th>loanId</th>\n",
       "      <th>loanDuration</th>\n",
       "      <th>totalAmount</th>\n",
       "      <th>amountFunded</th>\n",
       "      <th>interestRate</th>\n",
       "      <th>numFunders</th>\n",
       "      <th>EXISTS</th>\n",
       "      <th>fundedStatus</th>\n",
       "    </tr>\n",
       "  </thead>\n",
       "  <tbody>\n",
       "    <tr>\n",
       "      <th>0</th>\n",
       "      <td>Grocery help needed</td>\n",
       "      <td>I have not yet received my paycheck and I need...</td>\n",
       "      <td>0</td>\n",
       "      <td>1</td>\n",
       "      <td>120</td>\n",
       "      <td>95</td>\n",
       "      <td>3</td>\n",
       "      <td>3</td>\n",
       "      <td>True</td>\n",
       "      <td>False</td>\n",
       "    </tr>\n",
       "    <tr>\n",
       "      <th>0</th>\n",
       "      <td>Kitched home rennovation</td>\n",
       "      <td>I have just moved into the neighborhood and am...</td>\n",
       "      <td>1</td>\n",
       "      <td>12</td>\n",
       "      <td>1000</td>\n",
       "      <td>222</td>\n",
       "      <td>10</td>\n",
       "      <td>1</td>\n",
       "      <td>True</td>\n",
       "      <td>False</td>\n",
       "    </tr>\n",
       "    <tr>\n",
       "      <th>0</th>\n",
       "      <td>Credit card payment help</td>\n",
       "      <td>The next billing cycle for my credit card debt...</td>\n",
       "      <td>2</td>\n",
       "      <td>2</td>\n",
       "      <td>375</td>\n",
       "      <td>100</td>\n",
       "      <td>4</td>\n",
       "      <td>1</td>\n",
       "      <td>True</td>\n",
       "      <td>False</td>\n",
       "    </tr>\n",
       "    <tr>\n",
       "      <th>0</th>\n",
       "      <td>Lost job, need help with bills</td>\n",
       "      <td>I was a cleaning staff at the local shopping m...</td>\n",
       "      <td>3</td>\n",
       "      <td>3</td>\n",
       "      <td>775</td>\n",
       "      <td>75</td>\n",
       "      <td>5</td>\n",
       "      <td>1</td>\n",
       "      <td>True</td>\n",
       "      <td>False</td>\n",
       "    </tr>\n",
       "    <tr>\n",
       "      <th>0</th>\n",
       "      <td>Unforseen accident and car repair</td>\n",
       "      <td>I got into a car accident last month and my ca...</td>\n",
       "      <td>4</td>\n",
       "      <td>5</td>\n",
       "      <td>1250</td>\n",
       "      <td>500</td>\n",
       "      <td>3</td>\n",
       "      <td>1</td>\n",
       "      <td>True</td>\n",
       "      <td>False</td>\n",
       "    </tr>\n",
       "  </tbody>\n",
       "</table>\n",
       "</div>"
      ],
      "text/plain": [
       "                    shortDescription  \\\n",
       "0                Grocery help needed   \n",
       "0           Kitched home rennovation   \n",
       "0           Credit card payment help   \n",
       "0     Lost job, need help with bills   \n",
       "0  Unforseen accident and car repair   \n",
       "\n",
       "                                     loanDescription loanId loanDuration  \\\n",
       "0  I have not yet received my paycheck and I need...      0            1   \n",
       "0  I have just moved into the neighborhood and am...      1           12   \n",
       "0  The next billing cycle for my credit card debt...      2            2   \n",
       "0  I was a cleaning staff at the local shopping m...      3            3   \n",
       "0  I got into a car accident last month and my ca...      4            5   \n",
       "\n",
       "  totalAmount amountFunded interestRate numFunders EXISTS fundedStatus  \n",
       "0         120           95            3          3   True        False  \n",
       "0        1000          222           10          1   True        False  \n",
       "0         375          100            4          1   True        False  \n",
       "0         775           75            5          1   True        False  \n",
       "0        1250          500            3          1   True        False  "
      ]
     },
     "execution_count": 5,
     "metadata": {},
     "output_type": "execute_result"
    }
   ],
   "source": [
    "df_all_loans = c.get_all_loan_struct_info()\n",
    "df_all_loans.head()"
   ]
  },
  {
   "cell_type": "code",
   "execution_count": null,
   "id": "5e77ab09",
   "metadata": {},
   "outputs": [
    {
     "name": "stderr",
     "output_type": "stream",
     "text": [
      "The `multi_class` argument has been deprecated and renamed to `multi_label`. `multi_class` will be removed in a future version of Transformers.\n"
     ]
    }
   ],
   "source": [
    "results = classifier(df_all_loans.loanDescription.tolist(),categories,multi_class=False)"
   ]
  },
  {
   "cell_type": "code",
   "execution_count": null,
   "id": "4300fd28",
   "metadata": {},
   "outputs": [],
   "source": [
    "results"
   ]
  },
  {
   "cell_type": "code",
   "execution_count": null,
   "id": "e661a664",
   "metadata": {},
   "outputs": [],
   "source": [
    "def analysis(query, esg_cat):\n",
    "    result = model(query, esg_cat, multi_class=True)\n",
    "    df_result = pd.DataFrame(list(zip(result[\"labels\"],result[\"scores\"])),columns=['Topic','Score'])\n",
    "    top_cats = df_result[df_result['Score']>=0.8]['Topic'].tolist()\n",
    "    print(\"\\n \",query)\n",
    "    plotter(df_result)\n",
    "    return top_cats"
   ]
  }
 ],
 "metadata": {
  "kernelspec": {
   "display_name": "Python 3",
   "language": "python",
   "name": "python3"
  },
  "language_info": {
   "codemirror_mode": {
    "name": "ipython",
    "version": 3
   },
   "file_extension": ".py",
   "mimetype": "text/x-python",
   "name": "python",
   "nbconvert_exporter": "python",
   "pygments_lexer": "ipython3",
   "version": "3.7.10"
  }
 },
 "nbformat": 4,
 "nbformat_minor": 5
}
