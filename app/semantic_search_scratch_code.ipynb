{
 "cells": [
  {
   "cell_type": "code",
   "execution_count": 8,
   "id": "9ad92244",
   "metadata": {},
   "outputs": [],
   "source": [
    "from sentence_transformers import SentenceTransformer\n",
    "from ganacheconnector import contractConnector\n",
    "import json\n",
    "from web3 import Web3, HTTPProvider\n",
    "import pandas as pd\n",
    "import numpy as numpy\n",
    "import pandas as pd\n",
    "import os\n",
    "import scipy\n",
    "\n",
    "def encode_questions(model_name,clean_df):\n",
    "\tprint(\"Instantiating Model\")\n",
    "\tmodel = SentenceTransformer(model_name)\n",
    "\tprint(\"Model Instantiated\")\n",
    "\tquestions = clean_df.question.tolist()\n",
    "\tquestion_embeddings = model.encode(questions)\n",
    "\treturn question_embeddings, model_name\n",
    "\n",
    "def format_embeddings(embeddings,model_name): \n",
    "\tprint(\"Formating Data\")\n",
    "\tdf_embeddings  = pd.DataFrame(embeddings)\n",
    "\tdf_embeddings[\"model_name\"] = model_name\n",
    "\treturn df_embeddings\n",
    "\n",
    "def save_embeddings(df_embeddings,partner_id):\n",
    "\tprint(\"Saving Embeddings\")\n",
    "\tdirec = \"EMBEDDINGS/\"\n",
    "\tif not os.path.exists(direc):\n",
    "\t\tos.makedirs(direc)\n",
    "\tfp = \"EMBEDDINGS/{}.csv\".format(partner_id)\n",
    "\tprint(df_embeddings)\n",
    "\tdf_embeddings.to_csv(fp,index=None)\n",
    "\n",
    "def run_all_train(model_name,clean_df,partner_id): \n",
    "\tprint(\"Starting Run All\")\n",
    "\tquestion_embeddings, model_name = encode_questions(model_name,clean_df)\n",
    "\tdf_embeddings = format_embeddings(question_embeddings,model_name)\n",
    "\tsave_embeddings(df_embeddings,partner_id)\n",
    "\tprint(\"Run all finished\")\n",
    "\n",
    "def encode_query(model_name,query):\n",
    "\tmodel = SentenceTransformer(model_name)\n",
    "\tprint(query)\n",
    "\tqueries = [query]\n",
    "\tprint(queries)\n",
    "\tquery_embeddings = model.encode(queries)\n",
    "\treturn queries,query_embeddings\n",
    "\n",
    "def semantic_search(queries,query_embeddings,question_embeddings,number_top_matches): \n",
    "\tfor query, query_embedding in zip(queries, query_embeddings):\n",
    "\t\tdistances = scipy.spatial.distance.cdist([query_embedding], question_embeddings, \"cosine\")[0]\n",
    "\n",
    "\t\tresults = zip(range(len(distances)), distances)\n",
    "\t\tresults = sorted(results, key=lambda x: x[1])\n",
    "\t\tresults = pd.DataFrame(results[0:number_top_matches])\n",
    "\t\tresults = results.rename(columns={0:\"idx\",1:'distance'})\n",
    "\t\tresults[\"cosine_score\"] = 1 - results[\"distance\"]\n",
    "\t\treturn results"
   ]
  },
  {
   "cell_type": "code",
   "execution_count": 9,
   "id": "ad58f32f",
   "metadata": {},
   "outputs": [],
   "source": [
    "blockchain_address = 'http://127.0.0.1:8545'\n",
    "compiled_contract_path = '../build/contracts/P2PTest.json'\n",
    "deployed_contract_address = '0x6d72dC5be82840419bde6758D04Cc37102eB0473'\n",
    "defaultAccount = 0\n",
    "\n",
    "web3 = Web3(HTTPProvider(blockchain_address))\n",
    "web3.eth.accounts[defaultAccount]\n",
    "web3.eth.defaultAccount = web3.eth.accounts[defaultAccount]\n",
    "c = contractConnector(blockchain_address,compiled_contract_path,deployed_contract_address,defaultAccount)"
   ]
  },
  {
   "cell_type": "code",
   "execution_count": 15,
   "id": "2f51ab06",
   "metadata": {},
   "outputs": [
    {
     "data": {
      "application/vnd.jupyter.widget-view+json": {
       "model_id": "d2e4415f7e934e949d7b0322edb81bef",
       "version_major": 2,
       "version_minor": 0
      },
      "text/plain": [
       "Downloading:   0%|          | 0.00/391 [00:00<?, ?B/s]"
      ]
     },
     "metadata": {},
     "output_type": "display_data"
    },
    {
     "data": {
      "application/vnd.jupyter.widget-view+json": {
       "model_id": "00fbe2f91bdc4194a807cf216d16533e",
       "version_major": 2,
       "version_minor": 0
      },
      "text/plain": [
       "Downloading:   0%|          | 0.00/9.08k [00:00<?, ?B/s]"
      ]
     },
     "metadata": {},
     "output_type": "display_data"
    },
    {
     "data": {
      "application/vnd.jupyter.widget-view+json": {
       "model_id": "d53e3c8d25484cc196e41271fb2c48ab",
       "version_major": 2,
       "version_minor": 0
      },
      "text/plain": [
       "Downloading:   0%|          | 0.00/481 [00:00<?, ?B/s]"
      ]
     },
     "metadata": {},
     "output_type": "display_data"
    },
    {
     "data": {
      "application/vnd.jupyter.widget-view+json": {
       "model_id": "a99edc1cfe2542b79d4f0a83e2af59d9",
       "version_major": 2,
       "version_minor": 0
      },
      "text/plain": [
       "Downloading:   0%|          | 0.00/603k [00:00<?, ?B/s]"
      ]
     },
     "metadata": {},
     "output_type": "display_data"
    },
    {
     "data": {
      "application/vnd.jupyter.widget-view+json": {
       "model_id": "72822918772845879787841e9fa6062c",
       "version_major": 2,
       "version_minor": 0
      },
      "text/plain": [
       "Downloading:   0%|          | 0.00/456k [00:00<?, ?B/s]"
      ]
     },
     "metadata": {},
     "output_type": "display_data"
    },
    {
     "data": {
      "application/vnd.jupyter.widget-view+json": {
       "model_id": "74b8d302f9f44f39b63dabf58370a1d8",
       "version_major": 2,
       "version_minor": 0
      },
      "text/plain": [
       "Downloading:   0%|          | 0.00/501M [00:00<?, ?B/s]"
      ]
     },
     "metadata": {},
     "output_type": "display_data"
    },
    {
     "data": {
      "application/vnd.jupyter.widget-view+json": {
       "model_id": "634241db8f2e4b2d859f06e2434fa670",
       "version_major": 2,
       "version_minor": 0
      },
      "text/plain": [
       "Downloading:   0%|          | 0.00/1.36M [00:00<?, ?B/s]"
      ]
     },
     "metadata": {},
     "output_type": "display_data"
    },
    {
     "data": {
      "application/vnd.jupyter.widget-view+json": {
       "model_id": "dda4c45181c743d6adec430f3d20aa3a",
       "version_major": 2,
       "version_minor": 0
      },
      "text/plain": [
       "Downloading:   0%|          | 0.00/899k [00:00<?, ?B/s]"
      ]
     },
     "metadata": {},
     "output_type": "display_data"
    },
    {
     "name": "stderr",
     "output_type": "stream",
     "text": [
      "WARNING:root:No sentence-transformers model found with name /Users/adamlieberman/.cache/torch/sentence_transformers/roberta-base. Creating a new one with MEAN pooling.\n",
      "Some weights of the model checkpoint at /Users/adamlieberman/.cache/torch/sentence_transformers/roberta-base were not used when initializing RobertaModel: ['lm_head.dense.weight', 'lm_head.layer_norm.bias', 'lm_head.decoder.weight', 'lm_head.bias', 'lm_head.dense.bias', 'lm_head.layer_norm.weight']\n",
      "- This IS expected if you are initializing RobertaModel from the checkpoint of a model trained on another task or with another architecture (e.g. initializing a BertForSequenceClassification model from a BertForPreTraining model).\n",
      "- This IS NOT expected if you are initializing RobertaModel from the checkpoint of a model that you expect to be exactly identical (initializing a BertForSequenceClassification model from a BertForSequenceClassification model).\n"
     ]
    }
   ],
   "source": [
    "loan_search_model = SentenceTransformer(\"roberta-base\")"
   ]
  },
  {
   "cell_type": "code",
   "execution_count": 86,
   "id": "34478dea",
   "metadata": {},
   "outputs": [
    {
     "name": "stderr",
     "output_type": "stream",
     "text": [
      "WARNING:root:No sentence-transformers model found with name /Users/adamlieberman/.cache/torch/sentence_transformers/roberta-base. Creating a new one with MEAN pooling.\n",
      "Some weights of the model checkpoint at /Users/adamlieberman/.cache/torch/sentence_transformers/roberta-base were not used when initializing RobertaModel: ['lm_head.dense.weight', 'lm_head.layer_norm.bias', 'lm_head.decoder.weight', 'lm_head.bias', 'lm_head.dense.bias', 'lm_head.layer_norm.weight']\n",
      "- This IS expected if you are initializing RobertaModel from the checkpoint of a model trained on another task or with another architecture (e.g. initializing a BertForSequenceClassification model from a BertForPreTraining model).\n",
      "- This IS NOT expected if you are initializing RobertaModel from the checkpoint of a model that you expect to be exactly identical (initializing a BertForSequenceClassification model from a BertForSequenceClassification model).\n"
     ]
    }
   ],
   "source": [
    "loan_search_model = SentenceTransformer(\"roberta-base\")\n",
    "\n",
    "def encode_descriptions(model,df):\n",
    "\tquestions = df.shortDescription.tolist()\n",
    "\tquestion_embeddings = model.encode(questions)\n",
    "\treturn question_embeddings\n",
    "\n",
    "def encode_query(model,query):\n",
    "\tqueries = [query]\n",
    "\tquery_embeddings = model.encode(queries)\n",
    "\treturn queries,query_embeddings\n",
    "\n",
    "def semantic_search(queries,query_embeddings,question_embeddings,number_top_matches): \n",
    "\tfor query, query_embedding in zip(queries, query_embeddings):\n",
    "\t\tdistances = scipy.spatial.distance.cdist([query_embedding], question_embeddings, \"cosine\")[0]\n",
    "\n",
    "\t\tresults = zip(range(len(distances)), distances)\n",
    "\t\tresults = sorted(results, key=lambda x: x[1])\n",
    "\t\tresults = pd.DataFrame(results[0:number_top_matches])\n",
    "\t\tresults = results.rename(columns={0:\"idx\",1:'distance'})\n",
    "\t\tresults[\"cosine_score\"] = 1 - results[\"distance\"]\n",
    "\t\treturn results"
   ]
  },
  {
   "cell_type": "code",
   "execution_count": 87,
   "id": "2fcdea6d",
   "metadata": {},
   "outputs": [],
   "source": [
    "df_all_loans = c.get_all_loan_struct_info()\n",
    "embeddings = encode_descriptions(loan_search_model,df_all_loans)\n",
    "\n",
    "query = \"Help someone with groceries\"\n",
    "queries,query_embeddings = encode_query(loan_search_model,query)"
   ]
  },
  {
   "cell_type": "code",
   "execution_count": 88,
   "id": "b34c51b0",
   "metadata": {},
   "outputs": [],
   "source": [
    "results = semantic_search(queries, query_embeddings, embeddings, 2)"
   ]
  },
  {
   "cell_type": "code",
   "execution_count": 89,
   "id": "560c9fc5",
   "metadata": {},
   "outputs": [
    {
     "data": {
      "text/html": [
       "<div>\n",
       "<style scoped>\n",
       "    .dataframe tbody tr th:only-of-type {\n",
       "        vertical-align: middle;\n",
       "    }\n",
       "\n",
       "    .dataframe tbody tr th {\n",
       "        vertical-align: top;\n",
       "    }\n",
       "\n",
       "    .dataframe thead th {\n",
       "        text-align: right;\n",
       "    }\n",
       "</style>\n",
       "<table border=\"1\" class=\"dataframe\">\n",
       "  <thead>\n",
       "    <tr style=\"text-align: right;\">\n",
       "      <th></th>\n",
       "      <th>idx</th>\n",
       "      <th>distance</th>\n",
       "      <th>cosine_score</th>\n",
       "    </tr>\n",
       "  </thead>\n",
       "  <tbody>\n",
       "    <tr>\n",
       "      <th>0</th>\n",
       "      <td>0</td>\n",
       "      <td>0.029157</td>\n",
       "      <td>0.970843</td>\n",
       "    </tr>\n",
       "    <tr>\n",
       "      <th>1</th>\n",
       "      <td>2</td>\n",
       "      <td>0.031657</td>\n",
       "      <td>0.968343</td>\n",
       "    </tr>\n",
       "  </tbody>\n",
       "</table>\n",
       "</div>"
      ],
      "text/plain": [
       "   idx  distance  cosine_score\n",
       "0    0  0.029157      0.970843\n",
       "1    2  0.031657      0.968343"
      ]
     },
     "execution_count": 89,
     "metadata": {},
     "output_type": "execute_result"
    }
   ],
   "source": [
    "results"
   ]
  },
  {
   "cell_type": "code",
   "execution_count": 90,
   "id": "e0df2b8c",
   "metadata": {},
   "outputs": [
    {
     "data": {
      "text/plain": [
       "['I have not yet received my paycheck and I need a spot and some assistance getting groceries to feed my 3 small children.',\n",
       " 'The next billing cycle for my credit card debt starts in 3 days. Although I have been diligently paying part of it off every month, the snowball gets bigger and bigger. I really don’t want to pay the high interest rate anymore. It will be helpful if I can get a small loan to pay it all off, then my monthly payment will be much more affordable.']"
      ]
     },
     "execution_count": 90,
     "metadata": {},
     "output_type": "execute_result"
    }
   ],
   "source": [
    "df_all_loans.iloc[results.idx.tolist()].loanDescription.tolist()"
   ]
  },
  {
   "cell_type": "code",
   "execution_count": 85,
   "id": "1eb19d3f",
   "metadata": {},
   "outputs": [
    {
     "data": {
      "text/plain": [
       "['I have not yet received my paycheck and I need a spot and some assistance getting groceries to feed my 3 small children.',\n",
       " 'I have just moved into the neighborhood and am planning to rennovate my kitchen. Currently do not have enough funds to pay the job in full.',\n",
       " 'The next billing cycle for my credit card debt starts in 3 days. Although I have been diligently paying part of it off every month, the snowball gets bigger and bigger. I really don’t want to pay the high interest rate anymore. It will be helpful if I can get a small loan to pay it all off, then my monthly payment will be much more affordable.',\n",
       " 'I was a cleaning staff at the local shopping mall and lost my job during the pandemic. I have 2 children to take care of but paying bills on time becomes so difficult without a job. I hope to get a loan to get through this difficult time for my family.',\n",
       " 'I got into a car accident last month and my car needs major repair. The person who hit me fled the scene and has not been found. I don’t have a good car insurance, and I don’t have enough to pay for the repair cost. I need my car to travel to work so it is important to get it fixed asap.',\n",
       " 'I had to take my son to the emergency room after he choked when he was eating. We don’t have good insurance and we are facing a $8k medical bill. I’ve tried to borrow money from friends and family, but I couldn’t get much.',\n",
       " 'My grandma lives in an old house in Georgia by herself. She’s getting old and does not have much money for the house’s upkeep. Her air-conditioning system is not functioning properly, so I want to help hire someone to install a new air-conditioning system for her before the summer comes.',\n",
       " 'We found a blocked pipe in the house. The estimated cost to unclog the sewer line is about $600 in my area. Money is tight for me right now so I want to ask for a small loan to cover this but I will pay it back soon.',\n",
       " \"I just started my own little coffee shop in the neighborhood. I love coffee and want to share that with people in my community. I have an old, second-hand coffee machine that won't last for much longer. I would like to purchase a new one that will last a long time. It is essential for my business.\",\n",
       " 'need lunch for the week']"
      ]
     },
     "execution_count": 85,
     "metadata": {},
     "output_type": "execute_result"
    }
   ],
   "source": [
    "df_all_loans.loanDescription.tolist()"
   ]
  },
  {
   "cell_type": "code",
   "execution_count": null,
   "id": "4bedfbdc",
   "metadata": {},
   "outputs": [],
   "source": []
  }
 ],
 "metadata": {
  "kernelspec": {
   "display_name": "Python 3",
   "language": "python",
   "name": "python3"
  },
  "language_info": {
   "codemirror_mode": {
    "name": "ipython",
    "version": 3
   },
   "file_extension": ".py",
   "mimetype": "text/x-python",
   "name": "python",
   "nbconvert_exporter": "python",
   "pygments_lexer": "ipython3",
   "version": "3.7.10"
  }
 },
 "nbformat": 4,
 "nbformat_minor": 5
}
