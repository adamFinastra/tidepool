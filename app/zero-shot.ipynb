{
 "cells": [
  {
   "cell_type": "code",
   "execution_count": 1,
   "id": "4b015491",
   "metadata": {},
   "outputs": [],
   "source": [
    "from transformers import AutoModelForSequenceClassification, AutoTokenizer\n",
    "from transformers import pipeline\n",
    "import pandas as pd\n",
    "import numpy as np\n",
    "from ganacheconnector import contractConnector\n",
    "import json\n",
    "from web3 import Web3, HTTPProvider"
   ]
  },
  {
   "cell_type": "code",
   "execution_count": 61,
   "id": "6e42fc58",
   "metadata": {},
   "outputs": [
    {
     "data": {
      "text/plain": [
       "'2021-03-11'"
      ]
     },
     "execution_count": 61,
     "metadata": {},
     "output_type": "execute_result"
    }
   ],
   "source": [
    "from datetime import date, datetime\n",
    "\n",
    "from dateutil.relativedelta import relativedelta\n",
    "\n",
    "start_date=\"2020-12-11\"\n",
    "duration = 3\n",
    "end_date = datetime.strptime(start_date, \"%Y-%m-%d\") + relativedelta(months=+duration)\n",
    "end_date = end_date.strftime('%Y-%m-%d')\n",
    "end_date"
   ]
  },
  {
   "cell_type": "code",
   "execution_count": 2,
   "id": "c3626a58",
   "metadata": {},
   "outputs": [],
   "source": [
    "blockchain_address = 'http://127.0.0.1:8545'\n",
    "compiled_contract_path = '../build/contracts/P2PTest.json'\n",
    "deployed_contract_address = '0x6d72dC5be82840419bde6758D04Cc37102eB0473'\n",
    "defaultAccount = 0\n",
    "\n",
    "web3 = Web3(HTTPProvider(blockchain_address))\n",
    "web3.eth.accounts[defaultAccount]\n",
    "web3.eth.defaultAccount = web3.eth.accounts[defaultAccount]\n",
    "c = contractConnector(blockchain_address,compiled_contract_path,deployed_contract_address,defaultAccount)"
   ]
  },
  {
   "cell_type": "code",
   "execution_count": 30,
   "id": "7b757b95",
   "metadata": {},
   "outputs": [
    {
     "data": {
      "application/vnd.jupyter.widget-view+json": {
       "model_id": "df673923125641aa869fe9fec83f81d1",
       "version_major": 2,
       "version_minor": 0
      },
      "text/plain": [
       "Downloading:   0%|          | 0.00/1.39k [00:00<?, ?B/s]"
      ]
     },
     "metadata": {},
     "output_type": "display_data"
    },
    {
     "data": {
      "application/vnd.jupyter.widget-view+json": {
       "model_id": "d87790c6c38e4a65a3da88ad1055767e",
       "version_major": 2,
       "version_minor": 0
      },
      "text/plain": [
       "Downloading:   0%|          | 0.00/1.02G [00:00<?, ?B/s]"
      ]
     },
     "metadata": {},
     "output_type": "display_data"
    },
    {
     "data": {
      "application/vnd.jupyter.widget-view+json": {
       "model_id": "f5dd52779e7a4216a2bb44ee7ba26f35",
       "version_major": 2,
       "version_minor": 0
      },
      "text/plain": [
       "Downloading:   0%|          | 0.00/26.0 [00:00<?, ?B/s]"
      ]
     },
     "metadata": {},
     "output_type": "display_data"
    },
    {
     "data": {
      "application/vnd.jupyter.widget-view+json": {
       "model_id": "efe5df90b55d438bbd037c5b6d9c9c85",
       "version_major": 2,
       "version_minor": 0
      },
      "text/plain": [
       "Downloading:   0%|          | 0.00/899k [00:00<?, ?B/s]"
      ]
     },
     "metadata": {},
     "output_type": "display_data"
    },
    {
     "data": {
      "application/vnd.jupyter.widget-view+json": {
       "model_id": "7014ed07376b4b1d865c5e2ab17f6144",
       "version_major": 2,
       "version_minor": 0
      },
      "text/plain": [
       "Downloading:   0%|          | 0.00/456k [00:00<?, ?B/s]"
      ]
     },
     "metadata": {},
     "output_type": "display_data"
    },
    {
     "data": {
      "application/vnd.jupyter.widget-view+json": {
       "model_id": "ff363a6c5f1b4700a60113369adda621",
       "version_major": 2,
       "version_minor": 0
      },
      "text/plain": [
       "Downloading:   0%|          | 0.00/772 [00:00<?, ?B/s]"
      ]
     },
     "metadata": {},
     "output_type": "display_data"
    }
   ],
   "source": [
    "#classifier = pipeline(\"zero-shot-classification\",model=\"facebook/bart-large-mnli\")\n",
    "classifier = pipeline(\"zero-shot-classification\",model=\"valhalla/distilbart-mnli-12-3\")\n",
    "categories = ['grocery', 'medical bills', 'home improvement', 'debt', 'Job Loss', 'auto repair', 'pet care', 'funeral', 'business needs']"
   ]
  },
  {
   "cell_type": "code",
   "execution_count": 31,
   "id": "733a8c0e",
   "metadata": {},
   "outputs": [
    {
     "data": {
      "text/html": [
       "<div>\n",
       "<style scoped>\n",
       "    .dataframe tbody tr th:only-of-type {\n",
       "        vertical-align: middle;\n",
       "    }\n",
       "\n",
       "    .dataframe tbody tr th {\n",
       "        vertical-align: top;\n",
       "    }\n",
       "\n",
       "    .dataframe thead th {\n",
       "        text-align: right;\n",
       "    }\n",
       "</style>\n",
       "<table border=\"1\" class=\"dataframe\">\n",
       "  <thead>\n",
       "    <tr style=\"text-align: right;\">\n",
       "      <th></th>\n",
       "      <th>shortDescription</th>\n",
       "      <th>loanDescription</th>\n",
       "      <th>loanId</th>\n",
       "      <th>loanDuration</th>\n",
       "      <th>totalAmount</th>\n",
       "      <th>amountFunded</th>\n",
       "      <th>interestRate</th>\n",
       "      <th>numFunders</th>\n",
       "      <th>EXISTS</th>\n",
       "      <th>fundedStatus</th>\n",
       "    </tr>\n",
       "  </thead>\n",
       "  <tbody>\n",
       "    <tr>\n",
       "      <th>0</th>\n",
       "      <td>Grocery help needed</td>\n",
       "      <td>I have not yet received my paycheck and I need...</td>\n",
       "      <td>0</td>\n",
       "      <td>1</td>\n",
       "      <td>120</td>\n",
       "      <td>95</td>\n",
       "      <td>3</td>\n",
       "      <td>3</td>\n",
       "      <td>True</td>\n",
       "      <td>False</td>\n",
       "    </tr>\n",
       "    <tr>\n",
       "      <th>0</th>\n",
       "      <td>Kitched home rennovation</td>\n",
       "      <td>I have just moved into the neighborhood and am...</td>\n",
       "      <td>1</td>\n",
       "      <td>12</td>\n",
       "      <td>1000</td>\n",
       "      <td>222</td>\n",
       "      <td>10</td>\n",
       "      <td>1</td>\n",
       "      <td>True</td>\n",
       "      <td>False</td>\n",
       "    </tr>\n",
       "    <tr>\n",
       "      <th>0</th>\n",
       "      <td>Credit card payment help</td>\n",
       "      <td>The next billing cycle for my credit card debt...</td>\n",
       "      <td>2</td>\n",
       "      <td>2</td>\n",
       "      <td>375</td>\n",
       "      <td>100</td>\n",
       "      <td>4</td>\n",
       "      <td>1</td>\n",
       "      <td>True</td>\n",
       "      <td>False</td>\n",
       "    </tr>\n",
       "    <tr>\n",
       "      <th>0</th>\n",
       "      <td>Lost job, need help with bills</td>\n",
       "      <td>I was a cleaning staff at the local shopping m...</td>\n",
       "      <td>3</td>\n",
       "      <td>3</td>\n",
       "      <td>775</td>\n",
       "      <td>75</td>\n",
       "      <td>5</td>\n",
       "      <td>1</td>\n",
       "      <td>True</td>\n",
       "      <td>False</td>\n",
       "    </tr>\n",
       "    <tr>\n",
       "      <th>0</th>\n",
       "      <td>Unforseen accident and car repair</td>\n",
       "      <td>I got into a car accident last month and my ca...</td>\n",
       "      <td>4</td>\n",
       "      <td>5</td>\n",
       "      <td>1250</td>\n",
       "      <td>500</td>\n",
       "      <td>3</td>\n",
       "      <td>1</td>\n",
       "      <td>True</td>\n",
       "      <td>False</td>\n",
       "    </tr>\n",
       "  </tbody>\n",
       "</table>\n",
       "</div>"
      ],
      "text/plain": [
       "                    shortDescription  \\\n",
       "0                Grocery help needed   \n",
       "0           Kitched home rennovation   \n",
       "0           Credit card payment help   \n",
       "0     Lost job, need help with bills   \n",
       "0  Unforseen accident and car repair   \n",
       "\n",
       "                                     loanDescription loanId loanDuration  \\\n",
       "0  I have not yet received my paycheck and I need...      0            1   \n",
       "0  I have just moved into the neighborhood and am...      1           12   \n",
       "0  The next billing cycle for my credit card debt...      2            2   \n",
       "0  I was a cleaning staff at the local shopping m...      3            3   \n",
       "0  I got into a car accident last month and my ca...      4            5   \n",
       "\n",
       "  totalAmount amountFunded interestRate numFunders EXISTS fundedStatus  \n",
       "0         120           95            3          3   True        False  \n",
       "0        1000          222           10          1   True        False  \n",
       "0         375          100            4          1   True        False  \n",
       "0         775           75            5          1   True        False  \n",
       "0        1250          500            3          1   True        False  "
      ]
     },
     "execution_count": 31,
     "metadata": {},
     "output_type": "execute_result"
    }
   ],
   "source": [
    "df_all_loans = c.get_all_loan_struct_info()\n",
    "df_all_loans.head()"
   ]
  },
  {
   "cell_type": "code",
   "execution_count": 44,
   "id": "980e2f92",
   "metadata": {},
   "outputs": [],
   "source": [
    "def get_top_tag(classifier,loanDescription):\n",
    "    result = classifier(loanDescription,categories,multi_label=False)\n",
    "    top_tag = result[\"labels\"][0]\n",
    "    return top_tag"
   ]
  },
  {
   "cell_type": "code",
   "execution_count": 49,
   "id": "3d63070f",
   "metadata": {},
   "outputs": [
    {
     "data": {
      "text/plain": [
       "'Job Loss'"
      ]
     },
     "execution_count": 49,
     "metadata": {},
     "output_type": "execute_result"
    }
   ],
   "source": [
    "query = df_all_loans.loanDescription.tolist()[3]\n",
    "get_top_tag(classifier,query)"
   ]
  },
  {
   "cell_type": "code",
   "execution_count": 32,
   "id": "edf9ca84",
   "metadata": {},
   "outputs": [],
   "source": [
    "results = classifier(df_all_loans.loanDescription.tolist(),categories,multi_label=False)"
   ]
  },
  {
   "cell_type": "code",
   "execution_count": 33,
   "id": "896ae81e",
   "metadata": {},
   "outputs": [
    {
     "data": {
      "text/html": [
       "<div>\n",
       "<style scoped>\n",
       "    .dataframe tbody tr th:only-of-type {\n",
       "        vertical-align: middle;\n",
       "    }\n",
       "\n",
       "    .dataframe tbody tr th {\n",
       "        vertical-align: top;\n",
       "    }\n",
       "\n",
       "    .dataframe thead th {\n",
       "        text-align: right;\n",
       "    }\n",
       "</style>\n",
       "<table border=\"1\" class=\"dataframe\">\n",
       "  <thead>\n",
       "    <tr style=\"text-align: right;\">\n",
       "      <th></th>\n",
       "      <th>loanDescription</th>\n",
       "      <th>TopTag</th>\n",
       "      <th>Score</th>\n",
       "    </tr>\n",
       "  </thead>\n",
       "  <tbody>\n",
       "    <tr>\n",
       "      <th>0</th>\n",
       "      <td>I have not yet received my paycheck and I need...</td>\n",
       "      <td>grocery</td>\n",
       "      <td>0.853781</td>\n",
       "    </tr>\n",
       "    <tr>\n",
       "      <th>1</th>\n",
       "      <td>I have just moved into the neighborhood and am...</td>\n",
       "      <td>home improvement</td>\n",
       "      <td>0.829831</td>\n",
       "    </tr>\n",
       "    <tr>\n",
       "      <th>2</th>\n",
       "      <td>The next billing cycle for my credit card debt...</td>\n",
       "      <td>debt</td>\n",
       "      <td>0.882973</td>\n",
       "    </tr>\n",
       "    <tr>\n",
       "      <th>3</th>\n",
       "      <td>I was a cleaning staff at the local shopping m...</td>\n",
       "      <td>Job Loss</td>\n",
       "      <td>0.597745</td>\n",
       "    </tr>\n",
       "    <tr>\n",
       "      <th>4</th>\n",
       "      <td>I got into a car accident last month and my ca...</td>\n",
       "      <td>auto repair</td>\n",
       "      <td>0.434784</td>\n",
       "    </tr>\n",
       "    <tr>\n",
       "      <th>5</th>\n",
       "      <td>I had to take my son to the emergency room aft...</td>\n",
       "      <td>medical bills</td>\n",
       "      <td>0.496264</td>\n",
       "    </tr>\n",
       "    <tr>\n",
       "      <th>6</th>\n",
       "      <td>My grandma lives in an old house in Georgia by...</td>\n",
       "      <td>home improvement</td>\n",
       "      <td>0.864416</td>\n",
       "    </tr>\n",
       "    <tr>\n",
       "      <th>7</th>\n",
       "      <td>We found a blocked pipe in the house. The esti...</td>\n",
       "      <td>home improvement</td>\n",
       "      <td>0.578507</td>\n",
       "    </tr>\n",
       "    <tr>\n",
       "      <th>8</th>\n",
       "      <td>I just started my own little coffee shop in th...</td>\n",
       "      <td>business needs</td>\n",
       "      <td>0.776404</td>\n",
       "    </tr>\n",
       "    <tr>\n",
       "      <th>9</th>\n",
       "      <td>need lunch for the week</td>\n",
       "      <td>grocery</td>\n",
       "      <td>0.403252</td>\n",
       "    </tr>\n",
       "  </tbody>\n",
       "</table>\n",
       "</div>"
      ],
      "text/plain": [
       "                                     loanDescription            TopTag  \\\n",
       "0  I have not yet received my paycheck and I need...           grocery   \n",
       "1  I have just moved into the neighborhood and am...  home improvement   \n",
       "2  The next billing cycle for my credit card debt...              debt   \n",
       "3  I was a cleaning staff at the local shopping m...          Job Loss   \n",
       "4  I got into a car accident last month and my ca...       auto repair   \n",
       "5  I had to take my son to the emergency room aft...     medical bills   \n",
       "6  My grandma lives in an old house in Georgia by...  home improvement   \n",
       "7  We found a blocked pipe in the house. The esti...  home improvement   \n",
       "8  I just started my own little coffee shop in th...    business needs   \n",
       "9                            need lunch for the week           grocery   \n",
       "\n",
       "      Score  \n",
       "0  0.853781  \n",
       "1  0.829831  \n",
       "2  0.882973  \n",
       "3  0.597745  \n",
       "4  0.434784  \n",
       "5  0.496264  \n",
       "6  0.864416  \n",
       "7  0.578507  \n",
       "8  0.776404  \n",
       "9  0.403252  "
      ]
     },
     "execution_count": 33,
     "metadata": {},
     "output_type": "execute_result"
    }
   ],
   "source": [
    "l = []\n",
    "for i in results:\n",
    "    j = [i[\"sequence\"],i[\"labels\"][0],i[\"scores\"][0]]\n",
    "    l.append(j)\n",
    "df_tags = pd.DataFrame(l,columns=[\"loanDescription\", \"TopTag\",\"Score\"])\n",
    "df_tags"
   ]
  },
  {
   "cell_type": "code",
   "execution_count": 41,
   "id": "c0dd1c75",
   "metadata": {},
   "outputs": [],
   "source": [
    "query = \"I am looking to help someone pay some hospital bills from an accident they incurred.\"\n",
    "result = classifier(query,categories,multi_label=False)\n",
    "top_tag = result[\"labels\"][0]"
   ]
  },
  {
   "cell_type": "code",
   "execution_count": 15,
   "id": "d99db6d1",
   "metadata": {},
   "outputs": [
    {
     "data": {
      "text/plain": [
       "[{'sequence': 'I have just moved into the neighborhood and am planning to rennovate my kitchen. Currently do not have enough funds to pay the job in full.',\n",
       "  'labels': ['home improvement',\n",
       "   'debt',\n",
       "   'Job Loss',\n",
       "   'business needs',\n",
       "   'medical bills',\n",
       "   'charity',\n",
       "   'pet care',\n",
       "   'grocery',\n",
       "   'funeral',\n",
       "   'auto repair'],\n",
       "  'scores': [0.7746440768241882,\n",
       "   0.15895119309425354,\n",
       "   0.04492936283349991,\n",
       "   0.011712076142430305,\n",
       "   0.0018375774379819632,\n",
       "   0.001818630495108664,\n",
       "   0.0017931407783180475,\n",
       "   0.0016324493335559964,\n",
       "   0.0014066359726712108,\n",
       "   0.0012748903827741742]},\n",
       " {'sequence': 'The next billing cycle for my credit card debt starts in 3 days. Although I have been diligently paying part of it off every month, the snowball gets bigger and bigger. I really don’t want to pay the high interest rate anymore. It will be helpful if I can get a small loan to pay it all off, then my monthly payment will be much more affordable.',\n",
       "  'labels': ['debt',\n",
       "   'Job Loss',\n",
       "   'business needs',\n",
       "   'funeral',\n",
       "   'home improvement',\n",
       "   'medical bills',\n",
       "   'auto repair',\n",
       "   'charity',\n",
       "   'pet care',\n",
       "   'grocery'],\n",
       "  'scores': [0.973518431186676,\n",
       "   0.0070257955230772495,\n",
       "   0.004767438862472773,\n",
       "   0.0034606836270540953,\n",
       "   0.0030741565860807896,\n",
       "   0.0021319424267858267,\n",
       "   0.001646433025598526,\n",
       "   0.0016013763379305601,\n",
       "   0.0014250259846448898,\n",
       "   0.0013486851239576936]}]"
      ]
     },
     "execution_count": 15,
     "metadata": {},
     "output_type": "execute_result"
    }
   ],
   "source": [
    "results"
   ]
  },
  {
   "cell_type": "code",
   "execution_count": null,
   "id": "d5cd5c1e",
   "metadata": {},
   "outputs": [],
   "source": [
    "def analysis(query, esg_cat):\n",
    "    result = model(query, esg_cat, multi_class=True)\n",
    "    df_result = pd.DataFrame(list(zip(result[\"labels\"],result[\"scores\"])),columns=['Topic','Score'])\n",
    "    top_cats = df_result[df_result['Score']>=0.8]['Topic'].tolist()\n",
    "    print(\"\\n \",query)\n",
    "    plotter(df_result)\n",
    "    return top_cats"
   ]
  }
 ],
 "metadata": {
  "kernelspec": {
   "display_name": "Python 3",
   "language": "python",
   "name": "python3"
  },
  "language_info": {
   "codemirror_mode": {
    "name": "ipython",
    "version": 3
   },
   "file_extension": ".py",
   "mimetype": "text/x-python",
   "name": "python",
   "nbconvert_exporter": "python",
   "pygments_lexer": "ipython3",
   "version": "3.7.10"
  }
 },
 "nbformat": 4,
 "nbformat_minor": 5
}
