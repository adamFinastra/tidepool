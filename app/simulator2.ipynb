{
 "cells": [
  {
   "cell_type": "code",
   "execution_count": 17,
   "id": "0202b1ba",
   "metadata": {},
   "outputs": [],
   "source": [
    "import json\n",
    "from web3 import Web3, HTTPProvider\n",
    "import pandas as pd\n",
    "from ganacheconnector import contractConnector"
   ]
  },
  {
   "cell_type": "code",
   "execution_count": 18,
   "id": "9d19861a",
   "metadata": {},
   "outputs": [],
   "source": [
    "blockchain_address = 'http://127.0.0.1:8545'\n",
    "compiled_contract_path = '../build/contracts/P2PTest.json'\n",
    "deployed_contract_address = '0x6d72dC5be82840419bde6758D04Cc37102eB0473'\n",
    "defaultAccount = 0\n",
    "\n",
    "web3 = Web3(HTTPProvider(blockchain_address))\n",
    "web3.eth.accounts[defaultAccount]\n",
    "web3.eth.defaultAccount = web3.eth.accounts[defaultAccount]\n",
    "\n",
    "c = contractConnector(blockchain_address,compiled_contract_path,deployed_contract_address,defaultAccount)"
   ]
  },
  {
   "cell_type": "markdown",
   "id": "6b49c421",
   "metadata": {},
   "source": [
    "<h4>List the Accounts:</h4>"
   ]
  },
  {
   "cell_type": "code",
   "execution_count": 19,
   "id": "c5e11e94",
   "metadata": {},
   "outputs": [],
   "source": [
    "accounts = [\n",
    "    [\"Mike\",\"Lucas\",50000,'0x04C2CcCf58ff9C74C40d5B90C241D3c56dB259e9',0],\n",
    "    [\"Josh\",\"Abelman\",5000,'0x8B6D23aa533B01eacF790eBfB2af7eFa08e4f3B8',1],\n",
    "    [\"Hannah\",\"Morgan\",10000,'0x199510150ED1A48CC7D722450f9A8Ed663b0Cbe5',2],\n",
    "    [\"Sarah\",\"James\",31000,'0x77bCb8a3E034a4fEfCc3E4cBAE9558e5Dac0D4C1',3],\n",
    "    [\"Lisa\",\"Ryan\",2900,'0x2124A254a4AeC274e016388fedE02D7fd6cE7EBe',4],\n",
    "    [\"Francois\",\"Tyler\",8500,'0x228849d857897F1f2580511516b99CE8972ffc02',5],\n",
    "    [\"Elroy\",\"Games\",755,'0x9eBbb86593b4B6212FEA6c7905EAA85b352cf9Ea',6],\n",
    "    [\"Fred\",\"Nicholsan\",250,'0x6B88437d69866Ecc46c77C356b716d1f0ab745d5',7],\n",
    "    [\"Rob\",\"Richardson\",75000,'0x242C90083460c262C092a7fD93615BbF7ff7A380',8],\n",
    "    [\"Michael\",\"Jordan\",125000,'0xEe3a3B19181D4E45e6aA6519339737c7aA0D89a3',9]\n",
    "]"
   ]
  },
  {
   "cell_type": "markdown",
   "id": "b19bc20b",
   "metadata": {},
   "source": [
    "<h4>Add Borrower Profiles to the MarketPlace:</h4>"
   ]
  },
  {
   "cell_type": "code",
   "execution_count": 20,
   "id": "5f832f8a",
   "metadata": {},
   "outputs": [
    {
     "name": "stdout",
     "output_type": "stream",
     "text": [
      "Borrowers Simulated\n"
     ]
    }
   ],
   "source": [
    "borrowers = [\n",
    "    [\"Mike\",\"Lucas\",5000,0],\n",
    "    [\"Josh\",\"Abelman\",5000,1], \n",
    "    [\"Elroy\",\"Games\",1500,6], \n",
    "    [\"Francois\",\"Tyler\",8500,5], \n",
    "    [\"Lisa\",\"Ryan\",3000,4], \n",
    "    [\"Fred\",\"Nicholsan\",550,7], \n",
    "    [\"Michael\",\"Jordan\",7255,9]\n",
    "\n",
    "]\n",
    "\n",
    "#Add the borrowers\n",
    "for i in borrowers: \n",
    "    message = c.contract.functions.createBorrower(i[0], i[1], i[2]).transact({'from': web3.eth.accounts[i[3]]})\n",
    "    message_receipt = web3.eth.wait_for_transaction_receipt(message)\n",
    "print(\"Borrowers Simulated\")"
   ]
  },
  {
   "cell_type": "markdown",
   "id": "d3c32c5e",
   "metadata": {},
   "source": [
    "<h4>Add Investors to the Marketplace:</h4>"
   ]
  },
  {
   "cell_type": "code",
   "execution_count": 21,
   "id": "43ae47f0",
   "metadata": {},
   "outputs": [
    {
     "name": "stdout",
     "output_type": "stream",
     "text": [
      "Investors Simulated\n"
     ]
    }
   ],
   "source": [
    "lenders = [ \n",
    "    [\"Hannah\",\"Morgan\",10000,2],  \n",
    "    [\"Sarah\",\"James\",31000,3], \n",
    "    [\"Rob\",\"Richardson\",75000,8],\n",
    "    [\"Michael\",\"Jordan\",125000,9],\n",
    "    [\"Lisa\",\"Ryan\",3000,4]\n",
    "]\n",
    "\n",
    "#Add the lenders \n",
    "for i in lenders: \n",
    "    message = c.contract.functions.createInvestor(i[0], i[1], i[2]).transact({'from': web3.eth.accounts[i[3]]})\n",
    "    message_receipt = web3.eth.wait_for_transaction_receipt(message)\n",
    "print(\"Investors Simulated\")"
   ]
  },
  {
   "cell_type": "markdown",
   "id": "c14fd864",
   "metadata": {},
   "source": [
    "<h4>Loan 0: Elroy Games creates a $500 loan for a kitchen rennovation that he will payback in 2 months with a 5% IR:</h4>\n",
    "<ul>\n",
    "<li>Hannah funds it 100.</li>\n",
    "<li>Sarah funds it 55.</li>\n",
    "<li>Rob funds it 200.</li>\n",
    "</ul>"
   ]
  },
  {
   "cell_type": "code",
   "execution_count": 22,
   "id": "4620f027",
   "metadata": {},
   "outputs": [],
   "source": [
    "#This is loan_id = 0\n",
    "i = [\"Kitchen Rennovation\", \"I have just moved into the blue home on Peachtree St and have some rennovation work lined up for my kitchen. I owe my contractors $500 and need a quick spot.\",\"home improvement\",\"2021-07-25\",2,500,5,6]\n",
    "\n",
    "message = c.contract.functions.createLoan(i[0], i[1], i[2],i[3],i[4],i[5],i[6]).transact({'from': web3.eth.accounts[i[7]]})\n",
    "message_receipt = web3.eth.wait_for_transaction_receipt(message)\n",
    "\n",
    "#Hannah Funds Elroy's, loan 0, with $100\n",
    "f = [0,100,2]\n",
    "message = c.contract.functions.fundLoan(f[0],f[1]).transact({'from':web3.eth.accounts[f[2]]})\n",
    "message_receipt = web3.eth.wait_for_transaction_receipt(message)\n",
    "\n",
    "#Sarah Funds Elroy's, loan 0, with $55\n",
    "f = [0,55,3]\n",
    "message = c.contract.functions.fundLoan(f[0],f[1]).transact({'from':web3.eth.accounts[f[2]]})\n",
    "message_receipt = web3.eth.wait_for_transaction_receipt(message)\n",
    "\n",
    "\n",
    "#Rob Funds Elroy's, loan 0, with $200\n",
    "f = [0,200,8]\n",
    "message = c.contract.functions.fundLoan(f[0],f[1]).transact({'from':web3.eth.accounts[f[2]]})\n",
    "message_receipt = web3.eth.wait_for_transaction_receipt(message)"
   ]
  },
  {
   "cell_type": "markdown",
   "id": "b2c6b534",
   "metadata": {},
   "source": [
    "<h4>Loan 1: Josh Abelman needs $100 for flowers for his garden for home improvement. He will pay the loan back in 1 month with 12% interest.</h4>\n",
    "<ul>\n",
    "<li>Lisa funds it 60.</li>\n",
    "<li>Michael funds it 25.</li>\n",
    "</ul>"
   ]
  },
  {
   "cell_type": "code",
   "execution_count": 23,
   "id": "f1c48bd7",
   "metadata": {},
   "outputs": [],
   "source": [
    "#This is loan_id 1\n",
    "i = [\"New Garden\", \"If we've had the opportunity to meet, chances are you've seen my garden. As the weather is getting better I would love to add some petunias to my garden for our community to enjoy, anyone is welcome to come into my garden anytime.\",\"home improvement\",\"2021-07-29\",1,100,12,1]\n",
    "\n",
    "message = c.contract.functions.createLoan(i[0], i[1], i[2],i[3],i[4],i[5],i[6]).transact({'from': web3.eth.accounts[i[7]]})\n",
    "message_receipt = web3.eth.wait_for_transaction_receipt(message)\n",
    "\n",
    "#Lisa Funds Josh's, loan 1, with $60\n",
    "f = [1,60,4]\n",
    "message = c.contract.functions.fundLoan(f[0],f[1]).transact({'from':web3.eth.accounts[f[2]]})\n",
    "message_receipt = web3.eth.wait_for_transaction_receipt(message)\n",
    "\n",
    "#Michael Funds Josh's, loan 1, with $25\n",
    "f = [1,25,9]\n",
    "message = c.contract.functions.fundLoan(f[0],f[1]).transact({'from':web3.eth.accounts[f[2]]})\n",
    "message_receipt = web3.eth.wait_for_transaction_receipt(message)"
   ]
  },
  {
   "cell_type": "markdown",
   "id": "64922742",
   "metadata": {},
   "source": [
    "<h4>Loan 2: Lisa Ryan needs $1200 for an auto repair. She will pay the loan back in 6 months with 8% interest.</h4>\n",
    "<ul>\n",
    "<li>Michael funds it 220.</li>\n",
    "<li>Hannah funds it 5.</li>\n",
    "<li>Sarah funds it 10.</li>\n",
    "<li>Rob funds it 100.</li>\n",
    "</ul>"
   ]
  },
  {
   "cell_type": "code",
   "execution_count": null,
   "id": "b9b0e230",
   "metadata": {},
   "outputs": [],
   "source": [
    "#This is loan_id 2\n",
    "i = [\"Car Accident on RiverPine St.\", \"Well, your kid turns 16 and it's their first time driving alone. My daughter wrecked the front bumper and it is a $1200 repair. Be careful on the curvy stree on Riverpine!\",\"auto repair\",\"2021-07-30\",6,1200,8,4]\n",
    "\n",
    "message = c.contract.functions.createLoan(i[0], i[1], i[2],i[3],i[4],i[5],i[6]).transact({'from': web3.eth.accounts[i[7]]})\n",
    "message_receipt = web3.eth.wait_for_transaction_receipt(message)\n",
    "\n",
    "#Michael Funds Lisa's, loan 2, with $220\n",
    "f = [2,220,9]\n",
    "message = c.contract.functions.fundLoan(f[0],f[1]).transact({'from':web3.eth.accounts[f[2]]})\n",
    "message_receipt = web3.eth.wait_for_transaction_receipt(message)\n",
    "\n",
    "#Hannah Funds Lisa's, loan 2, with $5\n",
    "f = [2,5,2]\n",
    "message = c.contract.functions.fundLoan(f[0],f[1]).transact({'from':web3.eth.accounts[f[2]]})\n",
    "message_receipt = web3.eth.wait_for_transaction_receipt(message)\n",
    "\n",
    "#Sarah Funds Lisa's, loan 2, with $10\n",
    "f = [2,10,3]\n",
    "message = c.contract.functions.fundLoan(f[0],f[1]).transact({'from':web3.eth.accounts[f[2]]})\n",
    "message_receipt = web3.eth.wait_for_transaction_receipt(message)\n",
    "\n",
    "#Rob Funds Lisa's, loan 2, with $100\n",
    "f = [2,100,8]\n",
    "message = c.contract.functions.fundLoan(f[0],f[1]).transact({'from':web3.eth.accounts[f[2]]})\n",
    "message_receipt = web3.eth.wait_for_transaction_receipt(message)"
   ]
  },
  {
   "cell_type": "markdown",
   "id": "607d1bb5",
   "metadata": {},
   "source": [
    "<h4>Loan 3: Elroy Games needs $30 for a phone bill. He will pay the loan back in 1 months with 10% interest.</h4>\n",
    "<ul>\n",
    "<li>Hannah funds it 20.</li>\n",
    "<li>Sarah funds it 5.</li>\n",
    "</ul>"
   ]
  },
  {
   "cell_type": "code",
   "execution_count": null,
   "id": "cbab3d67",
   "metadata": {},
   "outputs": [],
   "source": [
    "#This is loan_id = 3\n",
    "i = [\"Phone Bill Due\", \"I have a phone bill due in the middle of next month and need a small advance. Any community help would be apperciated as I am going through some tough times. I will payback 10% interest asap!\",\"debt\",\"2021-07-22\",1,30,10,6]\n",
    "\n",
    "message = c.contract.functions.createLoan(i[0], i[1], i[2],i[3],i[4],i[5],i[6]).transact({'from': web3.eth.accounts[i[7]]})\n",
    "message_receipt = web3.eth.wait_for_transaction_receipt(message)\n",
    "\n",
    "#Hannah Funds Elroy's, loan 3, with $100\n",
    "f = [3,20,2]\n",
    "message = c.contract.functions.fundLoan(f[0],f[1]).transact({'from':web3.eth.accounts[f[2]]})\n",
    "message_receipt = web3.eth.wait_for_transaction_receipt(message)\n",
    "\n",
    "#Sarah Funds Elroy's, loan 3, with $55\n",
    "f = [3,5,3]\n",
    "message = c.contract.functions.fundLoan(f[0],f[1]).transact({'from':web3.eth.accounts[f[2]]})\n",
    "message_receipt = web3.eth.wait_for_transaction_receipt(message)"
   ]
  },
  {
   "cell_type": "markdown",
   "id": "3b3ab3fa",
   "metadata": {},
   "source": [
    "<h4>Loan 4: Michael Jordan needs $2100 for a medical emergency. He will pay the loan back in 12 months with 15% interest.</h4>\n",
    "<ul>\n",
    "<li>Rob funds it 200.</li>\n",
    "<li>Sarah funds it 300.</li>\n",
    "</ul>"
   ]
  },
  {
   "cell_type": "code",
   "execution_count": null,
   "id": "8747f342",
   "metadata": {},
   "outputs": [],
   "source": [
    "#This is loan_id = 4\n",
    "i = [\"Medical Emergency\", \"I had noticed a small spot on my back and my dermatologist has confirmed it is cancerous and needs to be removed. My insurance is covering all by $2100 and I need the surgery within the next month. Please help a neighbor out! Big interst payback!\",\"medical bill\",\"2021-07-30\",12,2100,15,9]\n",
    "\n",
    "message = c.contract.functions.createLoan(i[0], i[1], i[2],i[3],i[4],i[5],i[6]).transact({'from': web3.eth.accounts[i[7]]})\n",
    "message_receipt = web3.eth.wait_for_transaction_receipt(message)\n",
    "\n",
    "#Hannah Funds Michaels's, loan 4, with $200\n",
    "f = [4,200,8]\n",
    "message = c.contract.functions.fundLoan(f[0],f[1]).transact({'from':web3.eth.accounts[f[2]]})\n",
    "message_receipt = web3.eth.wait_for_transaction_receipt(message)\n",
    "\n",
    "#Sarah Funds Michaels's, loan 4, with $300\n",
    "f = [4,300,3]\n",
    "message = c.contract.functions.fundLoan(f[0],f[1]).transact({'from':web3.eth.accounts[f[2]]})\n",
    "message_receipt = web3.eth.wait_for_transaction_receipt(message)"
   ]
  },
  {
   "cell_type": "markdown",
   "id": "d616c667",
   "metadata": {},
   "source": [
    "<h4>Loan 5: Fred Nicholsan needs $60 for a bill since he lost his job. He will pay the loan back in 2 months with 2% interest.</h4>\n",
    "<ul>\n",
    "<li>Hannah funds it 10.</li>\n",
    "<li>Michael funds it 10.</li>\n",
    "<li>Lisa funds it 10.</li>\n",
    "</ul>"
   ]
  },
  {
   "cell_type": "code",
   "execution_count": null,
   "id": "84467ee3",
   "metadata": {},
   "outputs": [],
   "source": [
    "#This is loan_id = 5\n",
    "i = [\"Laid Off at AutoBistro\", \"My name is Fred and I was working at AutoBistro. Unfortunately, I was laid off and I need a few dollars to stay afloat. I can't offer much interst back but would really appreciate any community help in this tough time.\",\"job loss\",\"2021-07-21\",2,60,2,7]\n",
    "\n",
    "message = c.contract.functions.createLoan(i[0], i[1], i[2],i[3],i[4],i[5],i[6]).transact({'from': web3.eth.accounts[i[7]]})\n",
    "message_receipt = web3.eth.wait_for_transaction_receipt(message)\n",
    "\n",
    "#Hannah Funds Fred's, loan 5, with $10\n",
    "f = [5,10,2]\n",
    "message = c.contract.functions.fundLoan(f[0],f[1]).transact({'from':web3.eth.accounts[f[2]]})\n",
    "message_receipt = web3.eth.wait_for_transaction_receipt(message)\n",
    "\n",
    "#Sarah Funds Fred's, loan 5, with $10\n",
    "f = [5,10,9]\n",
    "message = c.contract.functions.fundLoan(f[0],f[1]).transact({'from':web3.eth.accounts[f[2]]})\n",
    "message_receipt = web3.eth.wait_for_transaction_receipt(message)\n",
    "\n",
    "#Sarah Funds Fred's, loan 5, with $10\n",
    "f = [5,10,4]\n",
    "message = c.contract.functions.fundLoan(f[0],f[1]).transact({'from':web3.eth.accounts[f[2]]})\n",
    "message_receipt = web3.eth.wait_for_transaction_receipt(message)"
   ]
  },
  {
   "cell_type": "markdown",
   "id": "58403a1a",
   "metadata": {},
   "source": [
    "<h4>Loan 6: Fred Nicholsan needs $200 for an auto repair since he lost his job. He will pay the loan back in 3 months with 5% interest.</h4>\n",
    "<ul>\n",
    "<li>Hannah funds it 20.</li>\n",
    "<li>Lisa funds it 15.</li>\n",
    "</ul>"
   ]
  },
  {
   "cell_type": "code",
   "execution_count": null,
   "id": "794b8c34",
   "metadata": {},
   "outputs": [],
   "source": [
    "#This is loan_id = 6\n",
    "i = [\"Car Repair After Lay Off\", \"I was laid off at AutoBistro and all of a sudden my back up camera in my car stopped working. Safety is important and I really need to get this fixed in the next few months.\",\"auto repair\",\"2021-07-27\",3,200,5,7]\n",
    "\n",
    "message = c.contract.functions.createLoan(i[0], i[1], i[2],i[3],i[4],i[5],i[6]).transact({'from': web3.eth.accounts[i[7]]})\n",
    "message_receipt = web3.eth.wait_for_transaction_receipt(message)\n",
    "\n",
    "#Hannah Funds Fred's, loan 6, with $20\n",
    "f = [6,10,2]\n",
    "message = c.contract.functions.fundLoan(f[0],f[1]).transact({'from':web3.eth.accounts[f[2]]})\n",
    "message_receipt = web3.eth.wait_for_transaction_receipt(message)\n",
    "\n",
    "\n",
    "#Lisa Funds Fred's, loan 6, with $15\n",
    "f = [6,10,4]\n",
    "message = c.contract.functions.fundLoan(f[0],f[1]).transact({'from':web3.eth.accounts[f[2]]})\n",
    "message_receipt = web3.eth.wait_for_transaction_receipt(message)"
   ]
  },
  {
   "cell_type": "markdown",
   "id": "0fe4d07e",
   "metadata": {},
   "source": [
    "<h4>Loan 7: Francois Tyler needs $3500 for a new espresso machine. He will pay the loan back in 5 months with 12% interest.</h4>\n",
    "<ul>\n",
    "<li>Hannah funds it 200.</li>\n",
    "<li>Michel funds it 700.</li>\n",
    "<li>Lisa funds it 250.</li>\n",
    "</ul>"
   ]
  },
  {
   "cell_type": "code",
   "execution_count": null,
   "id": "5167eea3",
   "metadata": {},
   "outputs": [],
   "source": [
    "#This is loan_id = 7\n",
    "i = [\"Francois' Italian Coffee Espresso Machine\", \"Bonjourno! My local coffee shop needs a brand new espresso machine. Help a local small business make the freshest coffee in the greatest town!\",\"business needs\",\"2021-07-30\",5,3500,12,5]\n",
    "message = c.contract.functions.createLoan(i[0], i[1], i[2],i[3],i[4],i[5],i[6]).transact({'from': web3.eth.accounts[i[7]]})\n",
    "message_receipt = web3.eth.wait_for_transaction_receipt(message)\n",
    "\n",
    "#Hannah Funds Francois', loan 7, with $100\n",
    "f = [7,100,2]\n",
    "message = c.contract.functions.fundLoan(f[0],f[1]).transact({'from':web3.eth.accounts[f[2]]})\n",
    "message_receipt = web3.eth.wait_for_transaction_receipt(message)\n",
    "\n",
    "#Michael Funds Francois', loan 7, with $700\n",
    "f = [7,700,9]\n",
    "message = c.contract.functions.fundLoan(f[0],f[1]).transact({'from':web3.eth.accounts[f[2]]})\n",
    "message_receipt = web3.eth.wait_for_transaction_receipt(message)\n",
    "\n",
    "#Lisa Funds Francois', loan 7, with $250\n",
    "f = [7,250,4]\n",
    "message = c.contract.functions.fundLoan(f[0],f[1]).transact({'from':web3.eth.accounts[f[2]]})\n",
    "message_receipt = web3.eth.wait_for_transaction_receipt(message)"
   ]
  },
  {
   "cell_type": "markdown",
   "id": "639d219f",
   "metadata": {},
   "source": [
    "<h4>Loan 8: Michael Jordan needs $60 for some dog treats. He will pay the loan back in 1 month with 8% interest.</h4>\n",
    "<ul>\n",
    "<li>Hannah funds it 20.</li>\n",
    "<li>Lisa funds it 20.</li>\n",
    "</ul>"
   ]
  },
  {
   "cell_type": "code",
   "execution_count": null,
   "id": "23b87445",
   "metadata": {},
   "outputs": [],
   "source": [
    "#This is loan_id = 8\n",
    "i = [\"Your Favorite Neighborhood Dog\", \"You all know Lucy, the adorable golden retriever belonging to Tate Joseph. We love Lucy and I want to get her some artisan dog treats!\",\"pet care\",\"2021-07-30\",1,60,8,9]\n",
    "message = c.contract.functions.createLoan(i[0], i[1], i[2],i[3],i[4],i[5],i[6]).transact({'from': web3.eth.accounts[i[7]]})\n",
    "message_receipt = web3.eth.wait_for_transaction_receipt(message)\n",
    "\n",
    "#Hannah Funds Michaels', loan 8, with $20\n",
    "f = [8,20,2]\n",
    "message = c.contract.functions.fundLoan(f[0],f[1]).transact({'from':web3.eth.accounts[f[2]]})\n",
    "message_receipt = web3.eth.wait_for_transaction_receipt(message)\n",
    "\n",
    "\n",
    "#Lisa Funds Michael's, loan 8, with $20\n",
    "f = [8,20,4]\n",
    "message = c.contract.functions.fundLoan(f[0],f[1]).transact({'from':web3.eth.accounts[f[2]]})\n",
    "message_receipt = web3.eth.wait_for_transaction_receipt(message)"
   ]
  },
  {
   "cell_type": "markdown",
   "id": "3720fe59",
   "metadata": {},
   "source": [
    "<h4>Loan 9: Josh Abelman needs $200 for a business license. He will pay the loan back in 3 month with 6% interest.</h4>\n",
    "<ul>\n",
    "<li>Michael funds it 20.</li>\n",
    "<li>Hannah funds it 20.</li>\n",
    "<li>Lisa funds it 20.</li>\n",
    "</ul>"
   ]
  },
  {
   "cell_type": "code",
   "execution_count": null,
   "id": "c064f46a",
   "metadata": {},
   "outputs": [],
   "source": [
    "#This is loan_id = 9\n",
    "i = [\"Garden Business License\", \"I am taking my flower business global! Please help me with $200 to get a business license for my new gardening company.\",\"business needs\",\"2021-07-22\",3,200,8,1]\n",
    "message = c.contract.functions.createLoan(i[0], i[1], i[2],i[3],i[4],i[5],i[6]).transact({'from': web3.eth.accounts[i[7]]})\n",
    "message_receipt = web3.eth.wait_for_transaction_receipt(message)\n",
    "\n",
    "#Hannah Funds Josh's, loan 9, with $100\n",
    "f = [9,100,2]\n",
    "message = c.contract.functions.fundLoan(f[0],f[1]).transact({'from':web3.eth.accounts[f[2]]})\n",
    "message_receipt = web3.eth.wait_for_transaction_receipt(message)\n",
    "\n",
    "\n",
    "#Lisa Funds Josh's, loan 9, with $75\n",
    "f = [9,75,4]\n",
    "message = c.contract.functions.fundLoan(f[0],f[1]).transact({'from':web3.eth.accounts[f[2]]})\n",
    "message_receipt = web3.eth.wait_for_transaction_receipt(message)"
   ]
  },
  {
   "cell_type": "markdown",
   "id": "1e585e30",
   "metadata": {},
   "source": [
    "<h4>Loan 10: Mike Lucas needs $300 for an auto repair. He will payback the loan in 4 months with 5% interest.</h4>"
   ]
  },
  {
   "cell_type": "code",
   "execution_count": 16,
   "id": "87e0d4c9",
   "metadata": {},
   "outputs": [],
   "source": [
    "#This is loan_id = 10\n",
    "i = [\"New Bumper\", \"I hit a pole in the parkling lot and have a huge dent in my car. It's about $400 but I need a $200 spot to get it done asap.\",\"auto repair\",\"2021-03-30\",4,200,5,0]\n",
    "message = c.contract.functions.createLoan(i[0], i[1], i[2],i[3],i[4],i[5],i[6]).transact({'from': web3.eth.accounts[i[7]]})\n",
    "message_receipt = web3.eth.wait_for_transaction_receipt(message)\n",
    "\n",
    "#Hannah Funds Mike's, loan 10, with $120\n",
    "f = [10,120,2]\n",
    "message = c.contract.functions.fundLoan(f[0],f[1]).transact({'from':web3.eth.accounts[f[2]]})\n",
    "message_receipt = web3.eth.wait_for_transaction_receipt(message)\n",
    "\n",
    "\n",
    "#Lisa Funds Mike's, loan 10, with $80\n",
    "f = [10,80,4]\n",
    "message = c.contract.functions.fundLoan(f[0],f[1]).transact({'from':web3.eth.accounts[f[2]]})\n",
    "message_receipt = web3.eth.wait_for_transaction_receipt(message)"
   ]
  }
 ],
 "metadata": {
  "kernelspec": {
   "display_name": "Python 3",
   "language": "python",
   "name": "python3"
  },
  "language_info": {
   "codemirror_mode": {
    "name": "ipython",
    "version": 3
   },
   "file_extension": ".py",
   "mimetype": "text/x-python",
   "name": "python",
   "nbconvert_exporter": "python",
   "pygments_lexer": "ipython3",
   "version": "3.7.10"
  }
 },
 "nbformat": 4,
 "nbformat_minor": 5
}
