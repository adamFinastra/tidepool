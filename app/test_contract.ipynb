{
 "cells": [
  {
   "cell_type": "code",
   "execution_count": 240,
   "metadata": {},
   "outputs": [],
   "source": [
    "import json\n",
    "from web3 import Web3, HTTPProvider\n",
    "import pandas as pd\n",
    "\n",
    "#https://dev.to/gcrsaldanha/deploy-a-smart-contract-on-ethereum-with-python-truffle-and-web3py-5on"
   ]
  },
  {
   "cell_type": "markdown",
   "metadata": {},
   "source": [
    "<h4>Get local Access to our ganache accounts:</h4>"
   ]
  },
  {
   "cell_type": "code",
   "execution_count": 241,
   "metadata": {},
   "outputs": [],
   "source": [
    "blockchain_address = 'http://127.0.0.1:8545'\n",
    "compiled_contract_path = '../build/contracts/P2PTest.json'\n",
    "deployed_contract_address = '0x6d72dC5be82840419bde6758D04Cc37102eB0473'\n",
    "defaultAccount = 0\n",
    "\n",
    "web3 = Web3(HTTPProvider(blockchain_address))\n",
    "web3.eth.accounts[defaultAccount]\n",
    "web3.eth.defaultAccount = web3.eth.accounts[defaultAccount]"
   ]
  },
  {
   "cell_type": "code",
   "execution_count": 208,
   "metadata": {},
   "outputs": [],
   "source": [
    "class contractConnector: \n",
    "    \n",
    "    def __init__(self,blockchain_address,compiled_contract_path, deployed_contract_address,defaultAccount=0): \n",
    "        self.blockchain_address = blockchain_address \n",
    "        self.compiled_contract_path = compiled_contract_path\n",
    "        self.deployed_contract_address = deployed_contract_address \n",
    "        self.web3 = Web3(HTTPProvider(self.blockchain_address))\n",
    "        self.web3.eth.defaultAccount = self.web3.eth.accounts[defaultAccount]\n",
    "        with open(self.compiled_contract_path) as file:\n",
    "            self.contract_json = json.load(file)  # load contract info as JSON\n",
    "            self.contract_abi = self.contract_json['abi']\n",
    "        self.contract = self.web3.eth.contract(address=self.deployed_contract_address, abi=self.contract_abi)\n",
    "        \n",
    "    def test_connection(self):\n",
    "        return web3.isConnected()\n",
    "    \n",
    "    def get_borrrower_struct_info(self,borrower_id,address=False): \n",
    "        '''\n",
    "        Get the borrower struct information from a specific borrower id\n",
    "        '''\n",
    "        if address: \n",
    "            borrower_id = self.contract.functions.BorrowerAddress2Id(address).call()\n",
    "        borrower_struct = pd.DataFrame(self.contract.functions.borrowers(borrower_id).call()).T\n",
    "        borrower_struct.columns = [\"borrowerPublicKey\",\"firstName\",\"lastName\",\"accountBalance\",\"numLoans\",\"borrowerId\",\"Exists\"]\n",
    "        return borrower_struct\n",
    "    \n",
    "    def get_investor_struct_info(self,investor_id,address=False):\n",
    "        '''\n",
    "        Get the investor struct information from a specific investor_id id\n",
    "        '''\n",
    "        if address: \n",
    "            investor_id = self.contract.functions.InvestorAddress2Id(address).call()\n",
    "        investor_struct = pd.DataFrame(self.contract.functions.investors(investor_id).call()).T\n",
    "        investor_struct.columns = [\"investorPublicKey\",\"firstName\",\"lastName\",\"accountBalance\",\"numInvestments\",\"investorId\",\"Exists\"]\n",
    "        return investor_struct\n",
    "    \n",
    "    def get_loan_struct_info(self,loan_id,appendBorrower=False):\n",
    "        '''\n",
    "        A function that will take in a loan id and return the loan struct information and optional the borrower who created it's information\n",
    "        '''\n",
    "        loan_struct = pd.DataFrame(self.contract.functions.loans(loan_id).call()).T\n",
    "        loan_struct.columns = [\"shortDescription\",\"loanDescription\",\"loanId\",\"loanDuration\",\"totalAmount\",\"amountFunded\",\"interestRate\",\"numFunders\",\"EXISTS\",\"fundedStatus\"]\n",
    "        if appendBorrower: \n",
    "            borrower_address = self.contract.functions.loanToOwner(loan_id).call()\n",
    "            #borrower_id = self.contract.functions.BorrowerAddress2Id(borrower_address).call()\n",
    "            borrower_struct = self.get_borrrower_struct_info(borrower_id=None,address=borrower_address)\n",
    "            loan_struct = pd.concat([loan_struct,borrower_struct],axis=1)\n",
    "        return loan_struct\n",
    "    \n",
    "    def get_loan_contract_struct(self,lcid): \n",
    "        lc_struct = pd.DataFrame(self.contract.functions.loancontracts(lcid).call()).T\n",
    "        lc_struct.columns = [\"borrowerPublicKey\",\"investorPublicKey\",\"originalInvestmentAmount\",\"originalInvestmentAmountInvestor\",\"currentPaybackAmount\",\n",
    "                            \"interestRate\",\"loanTerm\",\"loanId\",\"loanContractId\"] \n",
    "        return lc_struct\n",
    "    \n",
    "    def getInvestorLoanContracts(self,investorAddress): \n",
    "        loancontractids = self.contract.functions.getLoanContractsInvestorHas(investorAddress).call()\n",
    "        lcs = []\n",
    "        for lcid in loancontractids: \n",
    "            lcs.append(self.get_loan_contract_struct(lcid))\n",
    "        df_lcs = pd.concat(lcs,axis=0)\n",
    "        return df_lcs\n",
    "    \n",
    "    def get_all_loans_struct_by_borrower(self,borrowerAddress):\n",
    "        loan_ids = self.contract.functions.getLoansBorrowerHasCrerated(borrowerAddress).call()\n",
    "        ls = []\n",
    "        for lid in loan_ids: \n",
    "            ls.append(self.get_loan_struct_info(lid,True))\n",
    "        df_loans = pd.concat(ls,axis=0)\n",
    "        return df_loans\n",
    "    \n",
    "    \n",
    "    def get_all_loan_struct_info(self,appendBorrower=False): \n",
    "        '''\n",
    "        A function to get all of the loans that have been created that we \n",
    "        '''\n",
    "        \n",
    "        all_loan_ids = list(range(0,self.contract.functions.getTotalNumLoans().call()))\n",
    "        ls = []\n",
    "        for lid in all_loan_ids: \n",
    "            ls.append(self.get_loan_struct_info(lid,appendBorrower))\n",
    "        df_loans = pd.concat(ls,axis=0)\n",
    "        return df_loans\n",
    "    \n",
    "    def get_all_borrowers_struct_info(self):\n",
    "        '''\n",
    "        A function to get all struct info for all borrowers that we have \n",
    "        Looks at a range of the total number of borrowers for the id --> i.e. numTotalBorrowers = 7 means [0,1,2,...,6] for the ids as they are sequentially added\n",
    "        Then we make a call to the function get_borrower_struct_info in our class in our loop of borrower ids\n",
    "        Finally, convert it to a pandas dataframe \n",
    "        '''\n",
    "        all_borrower_ids = list(range(0,self.contract.functions.getTotalNumBorrowers().call()))\n",
    "        ls = []\n",
    "        for bid in all_borrower_ids: \n",
    "            ls.append(self.get_borrrower_struct_info(bid))\n",
    "        df_borrowers = pd.concat(ls,axis=0)\n",
    "        return df_borrowers\n",
    "    \n",
    "    def get_all_investors_struct_info(self):\n",
    "        '''\n",
    "        A function to get all struct info for all borrowers that we have \n",
    "        Looks at a range of the total number of borrowers for the id --> i.e. numTotalBorrowers = 7 means [0,1,2,...,6] for the ids as they are sequentially added\n",
    "        Then we make a call to the function get_borrower_struct_info in our class in our loop of borrower ids\n",
    "        Finally, convert it to a pandas dataframe \n",
    "        '''\n",
    "        all_investor_ids = list(range(0,self.contract.functions.getTotalNumInvestors().call()))\n",
    "        ls = []\n",
    "        for lid in all_investor_ids: \n",
    "            ls.append(self.get_investor_struct_info(lid))\n",
    "        df_investors = pd.concat(ls,axis=0)\n",
    "        return df_investors\n",
    "    \n",
    "    def get_investor_info_by_loanid(self,_loanId):\n",
    "        all_investor_ids = self.contract.functions.getInvestorsByLoanId(_loanId).call()\n",
    "        investor_amounts = self.contract.functions.getFundingAmountsByLoanId(_loanId).call()\n",
    "        borrower_ids = self.contract.functions.getBorrowersOnLoan(_loanId).call()\n",
    "        ls = []\n",
    "        for iid in all_investor_ids: \n",
    "            print(iid)\n",
    "            ls.append(self.get_investor_struct_info(None,address=iid))\n",
    "        df_investors = pd.concat(ls,axis=0)\n",
    "        df_investors[\"amountInvested\"] = investor_amounts\n",
    "        df_investors[\"loanId\"] = _loanId\n",
    "        df_investors[\"borrowerPublicKey\"] = borrower_ids\n",
    "        return df_investors\n",
    "    \n",
    "    \n",
    "    def get_all_funded_loans(self):\n",
    "        df_loans = self.get_all_loan_struct_info(True)\n",
    "        df_funded_loans = df_loans[df_loans.numFunders > 0]\n",
    "        return df_funded_loans\n",
    "    \n",
    "    \n",
    "    def get_loan_info_by_investor(self,_investorAddress): \n",
    "        loanIds = self.contract.functions.getLoanIdsByInvestor(_investorAddress).call()\n",
    "        ls = []\n",
    "        ls2 = []\n",
    "        for lid in loanIds: \n",
    "            ls.append(self.get_loan_struct_info(lid))\n",
    "            ls2.append(self.get_investor_info_by_loanid(lid))\n",
    "        df_ls = pd.concat(ls,axis=0)\n",
    "        df_ls2 = pd.concat(ls2,axis=0)\n",
    "        df_ls2 = df_ls2[df_ls2.loanId.isin(loanIds)]\n",
    "        df_ls2 = df_ls2[df_ls2.investorPublicKey == _investorAddress]\n",
    "        df_all = pd.concat([df_ls,df_ls2],axis=1)\n",
    "        return df_all\n",
    "    \n",
    "    \n",
    "    def get_investors_from_borrower(self,borrowerAddress):\n",
    "        #Take in a borrower address and see all the people/amounts they have to pay back\n",
    "        loans_created = self.contract.functions.getLoansBorrowerHasCrerated(borrowerAddress).call()\n",
    "        ls = []\n",
    "        for i in loans_created:\n",
    "            ls.append(self.get_investor_info_by_loanid(i))\n",
    "        df = pd.concat(ls,axis=0)\n",
    "        df = df[df.borrowerPublicKey == borrowerAddress]\n",
    "        return df\n",
    "    \n",
    "    \n",
    "    def get_investor_payback_by_borrower_address(self,borrowerAddress):\n",
    "        loans_borrower_created = self.contract.functions.getLoansBorrowerHasCrerated(borrowerAddress).call()\n",
    "        contractids = []\n",
    "        for i in loans_borrower_created: \n",
    "            cids = self.contract.functions.getLoanContractIdsFromLoanId(i).call()\n",
    "            contractids.append(cids)\n",
    "        contractids = [item for sublist in contractids for item in sublist]\n",
    "        dta = []\n",
    "        for i in contractids: \n",
    "            dta.append(self.get_loan_contract_struct(i))\n",
    "\n",
    "        df_lcs = pd.concat(dta,axis=0)\n",
    "        return df_lcs\n",
    "\n"
   ]
  },
  {
   "cell_type": "markdown",
   "metadata": {},
   "source": [
    "<h4>Initialize Web3 Connector to our local blockchain:</h4>"
   ]
  },
  {
   "cell_type": "code",
   "execution_count": 209,
   "metadata": {},
   "outputs": [],
   "source": [
    "#blockchain_address = 'http://127.0.0.1:8545'\n",
    "#compiled_contract_path = '../build/contracts/P2PTest.json'\n",
    "#deployed_contract_address = '0x96025acd196e89FA334efa73296eE3ecC2965d12'\n",
    "#defaultAccount = 0\n",
    "\n",
    "#Create the connection\n",
    "c = contractConnector(blockchain_address,compiled_contract_path,deployed_contract_address,defaultAccount)"
   ]
  },
  {
   "cell_type": "markdown",
   "metadata": {},
   "source": [
    "<h4>Add some Borrrowers, Investors, Loans, Funding:</h4>"
   ]
  },
  {
   "cell_type": "code",
   "execution_count": 210,
   "metadata": {},
   "outputs": [],
   "source": [
    "#Add some borrowers \n",
    "message = c.contract.functions.createBorrower(\"MIKE\", \"LUCAS\", 50000).transact({'from': web3.eth.accounts[0]})\n",
    "message_receipt = web3.eth.wait_for_transaction_receipt(message)\n",
    "message = c.contract.functions.createBorrower(\"JOSH\", \"ABELMAN\", 50000).transact({'from': web3.eth.accounts[1]})\n",
    "message_receipt = web3.eth.wait_for_transaction_receipt(message)\n",
    "message = c.contract.functions.createBorrower(\"Elroy\", \"Games\", 100000).transact({'from': web3.eth.accounts[6]})\n",
    "message_receipt = web3.eth.wait_for_transaction_receipt(message)\n",
    "message = c.contract.functions.createBorrower(\"Francois\", \"Tyler\", 85000).transact({'from': web3.eth.accounts[5]})\n",
    "message_receipt = web3.eth.wait_for_transaction_receipt(message)\n",
    "\n",
    "#Add some investors \n",
    "message = c.contract.functions.createInvestor(\"Hannah\",\"Morgan\",65000).transact({'from':web3.eth.accounts[2]})\n",
    "message_receipt = web3.eth.wait_for_transaction_receipt(message)\n",
    "message = c.contract.functions.createInvestor(\"MIKE\",\"LUCAS\",50000).transact({'from':web3.eth.accounts[0]})\n",
    "message_receipt = web3.eth.wait_for_transaction_receipt(message)\n",
    "\n",
    "#Create some loans from msg.sender \n",
    "message = c.contract.functions.createLoan(\"For Coffee machine\", 12, 1000, 2).transact({'from':web3.eth.accounts[6]})\n",
    "message_receipt = web3.eth.wait_for_transaction_receipt(message)\n",
    "message = c.contract.functions.createLoan(\"For Mortgage in June\", 12, 1000, 2).transact({'from':web3.eth.accounts[6]})\n",
    "message_receipt = web3.eth.wait_for_transaction_receipt(message)\n",
    "message = c.contract.functions.createLoan(\"For Groceries\", 1, 100, 5).transact({'from':web3.eth.accounts[1]})\n",
    "message_receipt = web3.eth.wait_for_transaction_receipt(message)\n",
    "\n",
    "#Allow some investors to fund some loans \n",
    "message = c.contract.functions.fundLoan(0,100).transact({'from':web3.eth.accounts[0]})\n",
    "message_receipt = web3.eth.wait_for_transaction_receipt(message)\n",
    "message = c.contract.functions.fundLoan(1,50).transact({'from':web3.eth.accounts[0]})\n",
    "message_receipt = web3.eth.wait_for_transaction_receipt(message)\n",
    "message = c.contract.functions.fundLoan(0,100).transact({'from':web3.eth.accounts[2]})\n",
    "message_receipt = web3.eth.wait_for_transaction_receipt(message)"
   ]
  },
  {
   "cell_type": "code",
   "execution_count": 211,
   "metadata": {},
   "outputs": [
    {
     "data": {
      "text/html": [
       "<div>\n",
       "<style scoped>\n",
       "    .dataframe tbody tr th:only-of-type {\n",
       "        vertical-align: middle;\n",
       "    }\n",
       "\n",
       "    .dataframe tbody tr th {\n",
       "        vertical-align: top;\n",
       "    }\n",
       "\n",
       "    .dataframe thead th {\n",
       "        text-align: right;\n",
       "    }\n",
       "</style>\n",
       "<table border=\"1\" class=\"dataframe\">\n",
       "  <thead>\n",
       "    <tr style=\"text-align: right;\">\n",
       "      <th></th>\n",
       "      <th>borrowerPublicKey</th>\n",
       "      <th>firstName</th>\n",
       "      <th>lastName</th>\n",
       "      <th>accountBalance</th>\n",
       "      <th>numLoans</th>\n",
       "      <th>borrowerId</th>\n",
       "      <th>Exists</th>\n",
       "    </tr>\n",
       "  </thead>\n",
       "  <tbody>\n",
       "    <tr>\n",
       "      <th>0</th>\n",
       "      <td>0x06F3D5DeDFC5af55D8fb7CA9d6Cc19B86e782D26</td>\n",
       "      <td>MIKE</td>\n",
       "      <td>LUCAS</td>\n",
       "      <td>50000</td>\n",
       "      <td>0</td>\n",
       "      <td>0</td>\n",
       "      <td>True</td>\n",
       "    </tr>\n",
       "    <tr>\n",
       "      <th>0</th>\n",
       "      <td>0xc5740ed7Ea2fd6D4082a68f048D37Be3a9AEb757</td>\n",
       "      <td>JOSH</td>\n",
       "      <td>ABELMAN</td>\n",
       "      <td>50000</td>\n",
       "      <td>1</td>\n",
       "      <td>1</td>\n",
       "      <td>True</td>\n",
       "    </tr>\n",
       "    <tr>\n",
       "      <th>0</th>\n",
       "      <td>0x73b96EcBb2FabE945Be6781507e1320F3538Cd2e</td>\n",
       "      <td>Elroy</td>\n",
       "      <td>Games</td>\n",
       "      <td>100250</td>\n",
       "      <td>2</td>\n",
       "      <td>2</td>\n",
       "      <td>True</td>\n",
       "    </tr>\n",
       "    <tr>\n",
       "      <th>0</th>\n",
       "      <td>0xAdfc2d2102DBA8F1497fb89b0D1c1A4678B322eB</td>\n",
       "      <td>Francois</td>\n",
       "      <td>Tyler</td>\n",
       "      <td>85000</td>\n",
       "      <td>0</td>\n",
       "      <td>3</td>\n",
       "      <td>True</td>\n",
       "    </tr>\n",
       "  </tbody>\n",
       "</table>\n",
       "</div>"
      ],
      "text/plain": [
       "                            borrowerPublicKey firstName lastName  \\\n",
       "0  0x06F3D5DeDFC5af55D8fb7CA9d6Cc19B86e782D26      MIKE    LUCAS   \n",
       "0  0xc5740ed7Ea2fd6D4082a68f048D37Be3a9AEb757      JOSH  ABELMAN   \n",
       "0  0x73b96EcBb2FabE945Be6781507e1320F3538Cd2e     Elroy    Games   \n",
       "0  0xAdfc2d2102DBA8F1497fb89b0D1c1A4678B322eB  Francois    Tyler   \n",
       "\n",
       "  accountBalance numLoans borrowerId Exists  \n",
       "0          50000        0          0   True  \n",
       "0          50000        1          1   True  \n",
       "0         100250        2          2   True  \n",
       "0          85000        0          3   True  "
      ]
     },
     "execution_count": 211,
     "metadata": {},
     "output_type": "execute_result"
    }
   ],
   "source": [
    "c.get_all_borrowers_struct_info() #Get all borrower info"
   ]
  },
  {
   "cell_type": "code",
   "execution_count": 212,
   "metadata": {},
   "outputs": [
    {
     "data": {
      "text/html": [
       "<div>\n",
       "<style scoped>\n",
       "    .dataframe tbody tr th:only-of-type {\n",
       "        vertical-align: middle;\n",
       "    }\n",
       "\n",
       "    .dataframe tbody tr th {\n",
       "        vertical-align: top;\n",
       "    }\n",
       "\n",
       "    .dataframe thead th {\n",
       "        text-align: right;\n",
       "    }\n",
       "</style>\n",
       "<table border=\"1\" class=\"dataframe\">\n",
       "  <thead>\n",
       "    <tr style=\"text-align: right;\">\n",
       "      <th></th>\n",
       "      <th>borrowerPublicKey</th>\n",
       "      <th>firstName</th>\n",
       "      <th>lastName</th>\n",
       "      <th>accountBalance</th>\n",
       "      <th>numLoans</th>\n",
       "      <th>borrowerId</th>\n",
       "      <th>Exists</th>\n",
       "    </tr>\n",
       "  </thead>\n",
       "  <tbody>\n",
       "    <tr>\n",
       "      <th>0</th>\n",
       "      <td>0x73b96EcBb2FabE945Be6781507e1320F3538Cd2e</td>\n",
       "      <td>Elroy</td>\n",
       "      <td>Games</td>\n",
       "      <td>100250</td>\n",
       "      <td>2</td>\n",
       "      <td>2</td>\n",
       "      <td>True</td>\n",
       "    </tr>\n",
       "  </tbody>\n",
       "</table>\n",
       "</div>"
      ],
      "text/plain": [
       "                            borrowerPublicKey firstName lastName  \\\n",
       "0  0x73b96EcBb2FabE945Be6781507e1320F3538Cd2e     Elroy    Games   \n",
       "\n",
       "  accountBalance numLoans borrowerId Exists  \n",
       "0         100250        2          2   True  "
      ]
     },
     "execution_count": 212,
     "metadata": {},
     "output_type": "execute_result"
    }
   ],
   "source": [
    "c.get_borrrower_struct_info(2) #Get borrower info for id 2"
   ]
  },
  {
   "cell_type": "code",
   "execution_count": 213,
   "metadata": {},
   "outputs": [
    {
     "data": {
      "text/html": [
       "<div>\n",
       "<style scoped>\n",
       "    .dataframe tbody tr th:only-of-type {\n",
       "        vertical-align: middle;\n",
       "    }\n",
       "\n",
       "    .dataframe tbody tr th {\n",
       "        vertical-align: top;\n",
       "    }\n",
       "\n",
       "    .dataframe thead th {\n",
       "        text-align: right;\n",
       "    }\n",
       "</style>\n",
       "<table border=\"1\" class=\"dataframe\">\n",
       "  <thead>\n",
       "    <tr style=\"text-align: right;\">\n",
       "      <th></th>\n",
       "      <th>investorPublicKey</th>\n",
       "      <th>firstName</th>\n",
       "      <th>lastName</th>\n",
       "      <th>accountBalance</th>\n",
       "      <th>numInvestments</th>\n",
       "      <th>investorId</th>\n",
       "      <th>Exists</th>\n",
       "    </tr>\n",
       "  </thead>\n",
       "  <tbody>\n",
       "    <tr>\n",
       "      <th>0</th>\n",
       "      <td>0x45DDA7f8e1CA4F0F216501Af17D04c20A786Bde5</td>\n",
       "      <td>Hannah</td>\n",
       "      <td>Morgan</td>\n",
       "      <td>64900</td>\n",
       "      <td>1</td>\n",
       "      <td>0</td>\n",
       "      <td>True</td>\n",
       "    </tr>\n",
       "    <tr>\n",
       "      <th>0</th>\n",
       "      <td>0x06F3D5DeDFC5af55D8fb7CA9d6Cc19B86e782D26</td>\n",
       "      <td>MIKE</td>\n",
       "      <td>LUCAS</td>\n",
       "      <td>49850</td>\n",
       "      <td>2</td>\n",
       "      <td>1</td>\n",
       "      <td>True</td>\n",
       "    </tr>\n",
       "  </tbody>\n",
       "</table>\n",
       "</div>"
      ],
      "text/plain": [
       "                            investorPublicKey firstName lastName  \\\n",
       "0  0x45DDA7f8e1CA4F0F216501Af17D04c20A786Bde5    Hannah   Morgan   \n",
       "0  0x06F3D5DeDFC5af55D8fb7CA9d6Cc19B86e782D26      MIKE    LUCAS   \n",
       "\n",
       "  accountBalance numInvestments investorId Exists  \n",
       "0          64900              1          0   True  \n",
       "0          49850              2          1   True  "
      ]
     },
     "execution_count": 213,
     "metadata": {},
     "output_type": "execute_result"
    }
   ],
   "source": [
    "c.get_all_investors_struct_info() #Get all investor info for what we have in the chain"
   ]
  },
  {
   "cell_type": "code",
   "execution_count": 214,
   "metadata": {},
   "outputs": [
    {
     "data": {
      "text/html": [
       "<div>\n",
       "<style scoped>\n",
       "    .dataframe tbody tr th:only-of-type {\n",
       "        vertical-align: middle;\n",
       "    }\n",
       "\n",
       "    .dataframe tbody tr th {\n",
       "        vertical-align: top;\n",
       "    }\n",
       "\n",
       "    .dataframe thead th {\n",
       "        text-align: right;\n",
       "    }\n",
       "</style>\n",
       "<table border=\"1\" class=\"dataframe\">\n",
       "  <thead>\n",
       "    <tr style=\"text-align: right;\">\n",
       "      <th></th>\n",
       "      <th>investorPublicKey</th>\n",
       "      <th>firstName</th>\n",
       "      <th>lastName</th>\n",
       "      <th>accountBalance</th>\n",
       "      <th>numInvestments</th>\n",
       "      <th>investorId</th>\n",
       "      <th>Exists</th>\n",
       "    </tr>\n",
       "  </thead>\n",
       "  <tbody>\n",
       "    <tr>\n",
       "      <th>0</th>\n",
       "      <td>0x06F3D5DeDFC5af55D8fb7CA9d6Cc19B86e782D26</td>\n",
       "      <td>MIKE</td>\n",
       "      <td>LUCAS</td>\n",
       "      <td>49850</td>\n",
       "      <td>2</td>\n",
       "      <td>1</td>\n",
       "      <td>True</td>\n",
       "    </tr>\n",
       "  </tbody>\n",
       "</table>\n",
       "</div>"
      ],
      "text/plain": [
       "                            investorPublicKey firstName lastName  \\\n",
       "0  0x06F3D5DeDFC5af55D8fb7CA9d6Cc19B86e782D26      MIKE    LUCAS   \n",
       "\n",
       "  accountBalance numInvestments investorId Exists  \n",
       "0          49850              2          1   True  "
      ]
     },
     "execution_count": 214,
     "metadata": {},
     "output_type": "execute_result"
    }
   ],
   "source": [
    "c.get_investor_struct_info(1) #Get investor info for investorId 1"
   ]
  },
  {
   "cell_type": "code",
   "execution_count": 215,
   "metadata": {},
   "outputs": [
    {
     "data": {
      "text/html": [
       "<div>\n",
       "<style scoped>\n",
       "    .dataframe tbody tr th:only-of-type {\n",
       "        vertical-align: middle;\n",
       "    }\n",
       "\n",
       "    .dataframe tbody tr th {\n",
       "        vertical-align: top;\n",
       "    }\n",
       "\n",
       "    .dataframe thead th {\n",
       "        text-align: right;\n",
       "    }\n",
       "</style>\n",
       "<table border=\"1\" class=\"dataframe\">\n",
       "  <thead>\n",
       "    <tr style=\"text-align: right;\">\n",
       "      <th></th>\n",
       "      <th>loanDescription</th>\n",
       "      <th>loanId</th>\n",
       "      <th>loanDuration</th>\n",
       "      <th>totalAmount</th>\n",
       "      <th>amountFunded</th>\n",
       "      <th>interestRate</th>\n",
       "      <th>numFunders</th>\n",
       "      <th>EXISTS</th>\n",
       "      <th>fundedStatus</th>\n",
       "      <th>borrowerPublicKey</th>\n",
       "      <th>firstName</th>\n",
       "      <th>lastName</th>\n",
       "      <th>accountBalance</th>\n",
       "      <th>numLoans</th>\n",
       "      <th>borrowerId</th>\n",
       "      <th>Exists</th>\n",
       "    </tr>\n",
       "  </thead>\n",
       "  <tbody>\n",
       "    <tr>\n",
       "      <th>0</th>\n",
       "      <td>For Coffee machine</td>\n",
       "      <td>0</td>\n",
       "      <td>12</td>\n",
       "      <td>1000</td>\n",
       "      <td>200</td>\n",
       "      <td>2</td>\n",
       "      <td>2</td>\n",
       "      <td>True</td>\n",
       "      <td>False</td>\n",
       "      <td>0x73b96EcBb2FabE945Be6781507e1320F3538Cd2e</td>\n",
       "      <td>Elroy</td>\n",
       "      <td>Games</td>\n",
       "      <td>100250</td>\n",
       "      <td>2</td>\n",
       "      <td>2</td>\n",
       "      <td>True</td>\n",
       "    </tr>\n",
       "    <tr>\n",
       "      <th>0</th>\n",
       "      <td>For Mortgage in June</td>\n",
       "      <td>1</td>\n",
       "      <td>12</td>\n",
       "      <td>1000</td>\n",
       "      <td>50</td>\n",
       "      <td>2</td>\n",
       "      <td>1</td>\n",
       "      <td>True</td>\n",
       "      <td>False</td>\n",
       "      <td>0x73b96EcBb2FabE945Be6781507e1320F3538Cd2e</td>\n",
       "      <td>Elroy</td>\n",
       "      <td>Games</td>\n",
       "      <td>100250</td>\n",
       "      <td>2</td>\n",
       "      <td>2</td>\n",
       "      <td>True</td>\n",
       "    </tr>\n",
       "    <tr>\n",
       "      <th>0</th>\n",
       "      <td>For Groceries</td>\n",
       "      <td>2</td>\n",
       "      <td>1</td>\n",
       "      <td>100</td>\n",
       "      <td>0</td>\n",
       "      <td>5</td>\n",
       "      <td>0</td>\n",
       "      <td>True</td>\n",
       "      <td>False</td>\n",
       "      <td>0xc5740ed7Ea2fd6D4082a68f048D37Be3a9AEb757</td>\n",
       "      <td>JOSH</td>\n",
       "      <td>ABELMAN</td>\n",
       "      <td>50000</td>\n",
       "      <td>1</td>\n",
       "      <td>1</td>\n",
       "      <td>True</td>\n",
       "    </tr>\n",
       "  </tbody>\n",
       "</table>\n",
       "</div>"
      ],
      "text/plain": [
       "        loanDescription loanId loanDuration totalAmount amountFunded  \\\n",
       "0    For Coffee machine      0           12        1000          200   \n",
       "0  For Mortgage in June      1           12        1000           50   \n",
       "0         For Groceries      2            1         100            0   \n",
       "\n",
       "  interestRate numFunders EXISTS fundedStatus  \\\n",
       "0            2          2   True        False   \n",
       "0            2          1   True        False   \n",
       "0            5          0   True        False   \n",
       "\n",
       "                            borrowerPublicKey firstName lastName  \\\n",
       "0  0x73b96EcBb2FabE945Be6781507e1320F3538Cd2e     Elroy    Games   \n",
       "0  0x73b96EcBb2FabE945Be6781507e1320F3538Cd2e     Elroy    Games   \n",
       "0  0xc5740ed7Ea2fd6D4082a68f048D37Be3a9AEb757      JOSH  ABELMAN   \n",
       "\n",
       "  accountBalance numLoans borrowerId Exists  \n",
       "0         100250        2          2   True  \n",
       "0         100250        2          2   True  \n",
       "0          50000        1          1   True  "
      ]
     },
     "execution_count": 215,
     "metadata": {},
     "output_type": "execute_result"
    }
   ],
   "source": [
    "c.get_all_loan_struct_info(True) #Get all loan data in the system"
   ]
  },
  {
   "cell_type": "code",
   "execution_count": 216,
   "metadata": {},
   "outputs": [
    {
     "data": {
      "text/html": [
       "<div>\n",
       "<style scoped>\n",
       "    .dataframe tbody tr th:only-of-type {\n",
       "        vertical-align: middle;\n",
       "    }\n",
       "\n",
       "    .dataframe tbody tr th {\n",
       "        vertical-align: top;\n",
       "    }\n",
       "\n",
       "    .dataframe thead th {\n",
       "        text-align: right;\n",
       "    }\n",
       "</style>\n",
       "<table border=\"1\" class=\"dataframe\">\n",
       "  <thead>\n",
       "    <tr style=\"text-align: right;\">\n",
       "      <th></th>\n",
       "      <th>loanDescription</th>\n",
       "      <th>loanId</th>\n",
       "      <th>loanDuration</th>\n",
       "      <th>totalAmount</th>\n",
       "      <th>amountFunded</th>\n",
       "      <th>interestRate</th>\n",
       "      <th>numFunders</th>\n",
       "      <th>EXISTS</th>\n",
       "      <th>fundedStatus</th>\n",
       "      <th>borrowerPublicKey</th>\n",
       "      <th>firstName</th>\n",
       "      <th>lastName</th>\n",
       "      <th>accountBalance</th>\n",
       "      <th>numLoans</th>\n",
       "      <th>borrowerId</th>\n",
       "      <th>Exists</th>\n",
       "    </tr>\n",
       "  </thead>\n",
       "  <tbody>\n",
       "    <tr>\n",
       "      <th>0</th>\n",
       "      <td>For Coffee machine</td>\n",
       "      <td>0</td>\n",
       "      <td>12</td>\n",
       "      <td>1000</td>\n",
       "      <td>200</td>\n",
       "      <td>2</td>\n",
       "      <td>2</td>\n",
       "      <td>True</td>\n",
       "      <td>False</td>\n",
       "      <td>0x73b96EcBb2FabE945Be6781507e1320F3538Cd2e</td>\n",
       "      <td>Elroy</td>\n",
       "      <td>Games</td>\n",
       "      <td>100250</td>\n",
       "      <td>2</td>\n",
       "      <td>2</td>\n",
       "      <td>True</td>\n",
       "    </tr>\n",
       "    <tr>\n",
       "      <th>0</th>\n",
       "      <td>For Mortgage in June</td>\n",
       "      <td>1</td>\n",
       "      <td>12</td>\n",
       "      <td>1000</td>\n",
       "      <td>50</td>\n",
       "      <td>2</td>\n",
       "      <td>1</td>\n",
       "      <td>True</td>\n",
       "      <td>False</td>\n",
       "      <td>0x73b96EcBb2FabE945Be6781507e1320F3538Cd2e</td>\n",
       "      <td>Elroy</td>\n",
       "      <td>Games</td>\n",
       "      <td>100250</td>\n",
       "      <td>2</td>\n",
       "      <td>2</td>\n",
       "      <td>True</td>\n",
       "    </tr>\n",
       "  </tbody>\n",
       "</table>\n",
       "</div>"
      ],
      "text/plain": [
       "        loanDescription loanId loanDuration totalAmount amountFunded  \\\n",
       "0    For Coffee machine      0           12        1000          200   \n",
       "0  For Mortgage in June      1           12        1000           50   \n",
       "\n",
       "  interestRate numFunders EXISTS fundedStatus  \\\n",
       "0            2          2   True        False   \n",
       "0            2          1   True        False   \n",
       "\n",
       "                            borrowerPublicKey firstName lastName  \\\n",
       "0  0x73b96EcBb2FabE945Be6781507e1320F3538Cd2e     Elroy    Games   \n",
       "0  0x73b96EcBb2FabE945Be6781507e1320F3538Cd2e     Elroy    Games   \n",
       "\n",
       "  accountBalance numLoans borrowerId Exists  \n",
       "0         100250        2          2   True  \n",
       "0         100250        2          2   True  "
      ]
     },
     "execution_count": 216,
     "metadata": {},
     "output_type": "execute_result"
    }
   ],
   "source": [
    "c.get_all_loans_struct_by_borrower(web3.eth.accounts[6]) #Get all loans account 6 has created"
   ]
  },
  {
   "cell_type": "code",
   "execution_count": 217,
   "metadata": {},
   "outputs": [
    {
     "data": {
      "text/html": [
       "<div>\n",
       "<style scoped>\n",
       "    .dataframe tbody tr th:only-of-type {\n",
       "        vertical-align: middle;\n",
       "    }\n",
       "\n",
       "    .dataframe tbody tr th {\n",
       "        vertical-align: top;\n",
       "    }\n",
       "\n",
       "    .dataframe thead th {\n",
       "        text-align: right;\n",
       "    }\n",
       "</style>\n",
       "<table border=\"1\" class=\"dataframe\">\n",
       "  <thead>\n",
       "    <tr style=\"text-align: right;\">\n",
       "      <th></th>\n",
       "      <th>loanDescription</th>\n",
       "      <th>loanId</th>\n",
       "      <th>loanDuration</th>\n",
       "      <th>totalAmount</th>\n",
       "      <th>amountFunded</th>\n",
       "      <th>interestRate</th>\n",
       "      <th>numFunders</th>\n",
       "      <th>EXISTS</th>\n",
       "      <th>fundedStatus</th>\n",
       "      <th>borrowerPublicKey</th>\n",
       "      <th>firstName</th>\n",
       "      <th>lastName</th>\n",
       "      <th>accountBalance</th>\n",
       "      <th>numLoans</th>\n",
       "      <th>borrowerId</th>\n",
       "      <th>Exists</th>\n",
       "    </tr>\n",
       "  </thead>\n",
       "  <tbody>\n",
       "    <tr>\n",
       "      <th>0</th>\n",
       "      <td>For Groceries</td>\n",
       "      <td>2</td>\n",
       "      <td>1</td>\n",
       "      <td>100</td>\n",
       "      <td>0</td>\n",
       "      <td>5</td>\n",
       "      <td>0</td>\n",
       "      <td>True</td>\n",
       "      <td>False</td>\n",
       "      <td>0xc5740ed7Ea2fd6D4082a68f048D37Be3a9AEb757</td>\n",
       "      <td>JOSH</td>\n",
       "      <td>ABELMAN</td>\n",
       "      <td>50000</td>\n",
       "      <td>1</td>\n",
       "      <td>1</td>\n",
       "      <td>True</td>\n",
       "    </tr>\n",
       "  </tbody>\n",
       "</table>\n",
       "</div>"
      ],
      "text/plain": [
       "  loanDescription loanId loanDuration totalAmount amountFunded interestRate  \\\n",
       "0   For Groceries      2            1         100            0            5   \n",
       "\n",
       "  numFunders EXISTS fundedStatus                           borrowerPublicKey  \\\n",
       "0          0   True        False  0xc5740ed7Ea2fd6D4082a68f048D37Be3a9AEb757   \n",
       "\n",
       "  firstName lastName accountBalance numLoans borrowerId Exists  \n",
       "0      JOSH  ABELMAN          50000        1          1   True  "
      ]
     },
     "execution_count": 217,
     "metadata": {},
     "output_type": "execute_result"
    }
   ],
   "source": [
    "c.get_all_loans_struct_by_borrower(web3.eth.accounts[1]) #Get all loans account 1 address has created"
   ]
  },
  {
   "cell_type": "code",
   "execution_count": 218,
   "metadata": {},
   "outputs": [
    {
     "name": "stdout",
     "output_type": "stream",
     "text": [
      "0x06F3D5DeDFC5af55D8fb7CA9d6Cc19B86e782D26\n",
      "0x45DDA7f8e1CA4F0F216501Af17D04c20A786Bde5\n"
     ]
    },
    {
     "data": {
      "text/html": [
       "<div>\n",
       "<style scoped>\n",
       "    .dataframe tbody tr th:only-of-type {\n",
       "        vertical-align: middle;\n",
       "    }\n",
       "\n",
       "    .dataframe tbody tr th {\n",
       "        vertical-align: top;\n",
       "    }\n",
       "\n",
       "    .dataframe thead th {\n",
       "        text-align: right;\n",
       "    }\n",
       "</style>\n",
       "<table border=\"1\" class=\"dataframe\">\n",
       "  <thead>\n",
       "    <tr style=\"text-align: right;\">\n",
       "      <th></th>\n",
       "      <th>investorPublicKey</th>\n",
       "      <th>firstName</th>\n",
       "      <th>lastName</th>\n",
       "      <th>accountBalance</th>\n",
       "      <th>numInvestments</th>\n",
       "      <th>investorId</th>\n",
       "      <th>Exists</th>\n",
       "      <th>amountInvested</th>\n",
       "      <th>loanId</th>\n",
       "      <th>borrowerPublicKey</th>\n",
       "    </tr>\n",
       "  </thead>\n",
       "  <tbody>\n",
       "    <tr>\n",
       "      <th>0</th>\n",
       "      <td>0x06F3D5DeDFC5af55D8fb7CA9d6Cc19B86e782D26</td>\n",
       "      <td>MIKE</td>\n",
       "      <td>LUCAS</td>\n",
       "      <td>49850</td>\n",
       "      <td>2</td>\n",
       "      <td>1</td>\n",
       "      <td>True</td>\n",
       "      <td>100</td>\n",
       "      <td>0</td>\n",
       "      <td>0x73b96EcBb2FabE945Be6781507e1320F3538Cd2e</td>\n",
       "    </tr>\n",
       "    <tr>\n",
       "      <th>0</th>\n",
       "      <td>0x45DDA7f8e1CA4F0F216501Af17D04c20A786Bde5</td>\n",
       "      <td>Hannah</td>\n",
       "      <td>Morgan</td>\n",
       "      <td>64900</td>\n",
       "      <td>1</td>\n",
       "      <td>0</td>\n",
       "      <td>True</td>\n",
       "      <td>100</td>\n",
       "      <td>0</td>\n",
       "      <td>0x73b96EcBb2FabE945Be6781507e1320F3538Cd2e</td>\n",
       "    </tr>\n",
       "  </tbody>\n",
       "</table>\n",
       "</div>"
      ],
      "text/plain": [
       "                            investorPublicKey firstName lastName  \\\n",
       "0  0x06F3D5DeDFC5af55D8fb7CA9d6Cc19B86e782D26      MIKE    LUCAS   \n",
       "0  0x45DDA7f8e1CA4F0F216501Af17D04c20A786Bde5    Hannah   Morgan   \n",
       "\n",
       "  accountBalance numInvestments investorId Exists  amountInvested  loanId  \\\n",
       "0          49850              2          1   True             100       0   \n",
       "0          64900              1          0   True             100       0   \n",
       "\n",
       "                            borrowerPublicKey  \n",
       "0  0x73b96EcBb2FabE945Be6781507e1320F3538Cd2e  \n",
       "0  0x73b96EcBb2FabE945Be6781507e1320F3538Cd2e  "
      ]
     },
     "execution_count": 218,
     "metadata": {},
     "output_type": "execute_result"
    }
   ],
   "source": [
    "c.get_investor_info_by_loanid(0) #Get all investors information and funding info on loan id 0"
   ]
  },
  {
   "cell_type": "code",
   "execution_count": 219,
   "metadata": {},
   "outputs": [
    {
     "data": {
      "text/html": [
       "<div>\n",
       "<style scoped>\n",
       "    .dataframe tbody tr th:only-of-type {\n",
       "        vertical-align: middle;\n",
       "    }\n",
       "\n",
       "    .dataframe tbody tr th {\n",
       "        vertical-align: top;\n",
       "    }\n",
       "\n",
       "    .dataframe thead th {\n",
       "        text-align: right;\n",
       "    }\n",
       "</style>\n",
       "<table border=\"1\" class=\"dataframe\">\n",
       "  <thead>\n",
       "    <tr style=\"text-align: right;\">\n",
       "      <th></th>\n",
       "      <th>loanDescription</th>\n",
       "      <th>loanId</th>\n",
       "      <th>loanDuration</th>\n",
       "      <th>totalAmount</th>\n",
       "      <th>amountFunded</th>\n",
       "      <th>interestRate</th>\n",
       "      <th>numFunders</th>\n",
       "      <th>EXISTS</th>\n",
       "      <th>fundedStatus</th>\n",
       "      <th>borrowerPublicKey</th>\n",
       "      <th>firstName</th>\n",
       "      <th>lastName</th>\n",
       "      <th>accountBalance</th>\n",
       "      <th>numLoans</th>\n",
       "      <th>borrowerId</th>\n",
       "      <th>Exists</th>\n",
       "    </tr>\n",
       "  </thead>\n",
       "  <tbody>\n",
       "    <tr>\n",
       "      <th>0</th>\n",
       "      <td>For Coffee machine</td>\n",
       "      <td>0</td>\n",
       "      <td>12</td>\n",
       "      <td>1000</td>\n",
       "      <td>200</td>\n",
       "      <td>2</td>\n",
       "      <td>2</td>\n",
       "      <td>True</td>\n",
       "      <td>False</td>\n",
       "      <td>0x73b96EcBb2FabE945Be6781507e1320F3538Cd2e</td>\n",
       "      <td>Elroy</td>\n",
       "      <td>Games</td>\n",
       "      <td>100250</td>\n",
       "      <td>2</td>\n",
       "      <td>2</td>\n",
       "      <td>True</td>\n",
       "    </tr>\n",
       "    <tr>\n",
       "      <th>0</th>\n",
       "      <td>For Mortgage in June</td>\n",
       "      <td>1</td>\n",
       "      <td>12</td>\n",
       "      <td>1000</td>\n",
       "      <td>50</td>\n",
       "      <td>2</td>\n",
       "      <td>1</td>\n",
       "      <td>True</td>\n",
       "      <td>False</td>\n",
       "      <td>0x73b96EcBb2FabE945Be6781507e1320F3538Cd2e</td>\n",
       "      <td>Elroy</td>\n",
       "      <td>Games</td>\n",
       "      <td>100250</td>\n",
       "      <td>2</td>\n",
       "      <td>2</td>\n",
       "      <td>True</td>\n",
       "    </tr>\n",
       "  </tbody>\n",
       "</table>\n",
       "</div>"
      ],
      "text/plain": [
       "        loanDescription loanId loanDuration totalAmount amountFunded  \\\n",
       "0    For Coffee machine      0           12        1000          200   \n",
       "0  For Mortgage in June      1           12        1000           50   \n",
       "\n",
       "  interestRate numFunders EXISTS fundedStatus  \\\n",
       "0            2          2   True        False   \n",
       "0            2          1   True        False   \n",
       "\n",
       "                            borrowerPublicKey firstName lastName  \\\n",
       "0  0x73b96EcBb2FabE945Be6781507e1320F3538Cd2e     Elroy    Games   \n",
       "0  0x73b96EcBb2FabE945Be6781507e1320F3538Cd2e     Elroy    Games   \n",
       "\n",
       "  accountBalance numLoans borrowerId Exists  \n",
       "0         100250        2          2   True  \n",
       "0         100250        2          2   True  "
      ]
     },
     "execution_count": 219,
     "metadata": {},
     "output_type": "execute_result"
    }
   ],
   "source": [
    "c.get_all_funded_loans() #Get all loans that have been funded"
   ]
  },
  {
   "cell_type": "code",
   "execution_count": 220,
   "metadata": {},
   "outputs": [
    {
     "name": "stdout",
     "output_type": "stream",
     "text": [
      "0x06F3D5DeDFC5af55D8fb7CA9d6Cc19B86e782D26\n",
      "0x45DDA7f8e1CA4F0F216501Af17D04c20A786Bde5\n",
      "0x06F3D5DeDFC5af55D8fb7CA9d6Cc19B86e782D26\n"
     ]
    },
    {
     "data": {
      "text/html": [
       "<div>\n",
       "<style scoped>\n",
       "    .dataframe tbody tr th:only-of-type {\n",
       "        vertical-align: middle;\n",
       "    }\n",
       "\n",
       "    .dataframe tbody tr th {\n",
       "        vertical-align: top;\n",
       "    }\n",
       "\n",
       "    .dataframe thead th {\n",
       "        text-align: right;\n",
       "    }\n",
       "</style>\n",
       "<table border=\"1\" class=\"dataframe\">\n",
       "  <thead>\n",
       "    <tr style=\"text-align: right;\">\n",
       "      <th></th>\n",
       "      <th>loanDescription</th>\n",
       "      <th>loanId</th>\n",
       "      <th>loanDuration</th>\n",
       "      <th>totalAmount</th>\n",
       "      <th>amountFunded</th>\n",
       "      <th>interestRate</th>\n",
       "      <th>numFunders</th>\n",
       "      <th>EXISTS</th>\n",
       "      <th>fundedStatus</th>\n",
       "      <th>investorPublicKey</th>\n",
       "      <th>firstName</th>\n",
       "      <th>lastName</th>\n",
       "      <th>accountBalance</th>\n",
       "      <th>numInvestments</th>\n",
       "      <th>investorId</th>\n",
       "      <th>Exists</th>\n",
       "      <th>amountInvested</th>\n",
       "      <th>loanId</th>\n",
       "      <th>borrowerPublicKey</th>\n",
       "    </tr>\n",
       "  </thead>\n",
       "  <tbody>\n",
       "    <tr>\n",
       "      <th>0</th>\n",
       "      <td>For Coffee machine</td>\n",
       "      <td>0</td>\n",
       "      <td>12</td>\n",
       "      <td>1000</td>\n",
       "      <td>200</td>\n",
       "      <td>2</td>\n",
       "      <td>2</td>\n",
       "      <td>True</td>\n",
       "      <td>False</td>\n",
       "      <td>0x06F3D5DeDFC5af55D8fb7CA9d6Cc19B86e782D26</td>\n",
       "      <td>MIKE</td>\n",
       "      <td>LUCAS</td>\n",
       "      <td>49850</td>\n",
       "      <td>2</td>\n",
       "      <td>1</td>\n",
       "      <td>True</td>\n",
       "      <td>100</td>\n",
       "      <td>0</td>\n",
       "      <td>0x73b96EcBb2FabE945Be6781507e1320F3538Cd2e</td>\n",
       "    </tr>\n",
       "    <tr>\n",
       "      <th>0</th>\n",
       "      <td>For Mortgage in June</td>\n",
       "      <td>1</td>\n",
       "      <td>12</td>\n",
       "      <td>1000</td>\n",
       "      <td>50</td>\n",
       "      <td>2</td>\n",
       "      <td>1</td>\n",
       "      <td>True</td>\n",
       "      <td>False</td>\n",
       "      <td>0x06F3D5DeDFC5af55D8fb7CA9d6Cc19B86e782D26</td>\n",
       "      <td>MIKE</td>\n",
       "      <td>LUCAS</td>\n",
       "      <td>49850</td>\n",
       "      <td>2</td>\n",
       "      <td>1</td>\n",
       "      <td>True</td>\n",
       "      <td>50</td>\n",
       "      <td>1</td>\n",
       "      <td>0x73b96EcBb2FabE945Be6781507e1320F3538Cd2e</td>\n",
       "    </tr>\n",
       "  </tbody>\n",
       "</table>\n",
       "</div>"
      ],
      "text/plain": [
       "        loanDescription  loanId loanDuration totalAmount amountFunded  \\\n",
       "0    For Coffee machine       0           12        1000          200   \n",
       "0  For Mortgage in June       1           12        1000           50   \n",
       "\n",
       "  interestRate numFunders EXISTS fundedStatus  \\\n",
       "0            2          2   True        False   \n",
       "0            2          1   True        False   \n",
       "\n",
       "                            investorPublicKey firstName lastName  \\\n",
       "0  0x06F3D5DeDFC5af55D8fb7CA9d6Cc19B86e782D26      MIKE    LUCAS   \n",
       "0  0x06F3D5DeDFC5af55D8fb7CA9d6Cc19B86e782D26      MIKE    LUCAS   \n",
       "\n",
       "  accountBalance numInvestments investorId Exists  amountInvested  loanId  \\\n",
       "0          49850              2          1   True             100       0   \n",
       "0          49850              2          1   True              50       1   \n",
       "\n",
       "                            borrowerPublicKey  \n",
       "0  0x73b96EcBb2FabE945Be6781507e1320F3538Cd2e  \n",
       "0  0x73b96EcBb2FabE945Be6781507e1320F3538Cd2e  "
      ]
     },
     "execution_count": 220,
     "metadata": {},
     "output_type": "execute_result"
    }
   ],
   "source": [
    "c.get_loan_info_by_investor(web3.eth.accounts[0]) #Get all the loans Mike has invested in and how much"
   ]
  },
  {
   "cell_type": "code",
   "execution_count": 221,
   "metadata": {},
   "outputs": [
    {
     "name": "stdout",
     "output_type": "stream",
     "text": [
      "0x06F3D5DeDFC5af55D8fb7CA9d6Cc19B86e782D26\n",
      "0x45DDA7f8e1CA4F0F216501Af17D04c20A786Bde5\n"
     ]
    },
    {
     "data": {
      "text/html": [
       "<div>\n",
       "<style scoped>\n",
       "    .dataframe tbody tr th:only-of-type {\n",
       "        vertical-align: middle;\n",
       "    }\n",
       "\n",
       "    .dataframe tbody tr th {\n",
       "        vertical-align: top;\n",
       "    }\n",
       "\n",
       "    .dataframe thead th {\n",
       "        text-align: right;\n",
       "    }\n",
       "</style>\n",
       "<table border=\"1\" class=\"dataframe\">\n",
       "  <thead>\n",
       "    <tr style=\"text-align: right;\">\n",
       "      <th></th>\n",
       "      <th>loanDescription</th>\n",
       "      <th>loanId</th>\n",
       "      <th>loanDuration</th>\n",
       "      <th>totalAmount</th>\n",
       "      <th>amountFunded</th>\n",
       "      <th>interestRate</th>\n",
       "      <th>numFunders</th>\n",
       "      <th>EXISTS</th>\n",
       "      <th>fundedStatus</th>\n",
       "      <th>investorPublicKey</th>\n",
       "      <th>firstName</th>\n",
       "      <th>lastName</th>\n",
       "      <th>accountBalance</th>\n",
       "      <th>numInvestments</th>\n",
       "      <th>investorId</th>\n",
       "      <th>Exists</th>\n",
       "      <th>amountInvested</th>\n",
       "      <th>loanId</th>\n",
       "      <th>borrowerPublicKey</th>\n",
       "    </tr>\n",
       "  </thead>\n",
       "  <tbody>\n",
       "    <tr>\n",
       "      <th>0</th>\n",
       "      <td>For Coffee machine</td>\n",
       "      <td>0</td>\n",
       "      <td>12</td>\n",
       "      <td>1000</td>\n",
       "      <td>200</td>\n",
       "      <td>2</td>\n",
       "      <td>2</td>\n",
       "      <td>True</td>\n",
       "      <td>False</td>\n",
       "      <td>0x45DDA7f8e1CA4F0F216501Af17D04c20A786Bde5</td>\n",
       "      <td>Hannah</td>\n",
       "      <td>Morgan</td>\n",
       "      <td>64900</td>\n",
       "      <td>1</td>\n",
       "      <td>0</td>\n",
       "      <td>True</td>\n",
       "      <td>100</td>\n",
       "      <td>0</td>\n",
       "      <td>0x73b96EcBb2FabE945Be6781507e1320F3538Cd2e</td>\n",
       "    </tr>\n",
       "  </tbody>\n",
       "</table>\n",
       "</div>"
      ],
      "text/plain": [
       "      loanDescription  loanId loanDuration totalAmount amountFunded  \\\n",
       "0  For Coffee machine       0           12        1000          200   \n",
       "\n",
       "  interestRate numFunders EXISTS fundedStatus  \\\n",
       "0            2          2   True        False   \n",
       "\n",
       "                            investorPublicKey firstName lastName  \\\n",
       "0  0x45DDA7f8e1CA4F0F216501Af17D04c20A786Bde5    Hannah   Morgan   \n",
       "\n",
       "  accountBalance numInvestments investorId Exists  amountInvested  loanId  \\\n",
       "0          64900              1          0   True             100       0   \n",
       "\n",
       "                            borrowerPublicKey  \n",
       "0  0x73b96EcBb2FabE945Be6781507e1320F3538Cd2e  "
      ]
     },
     "execution_count": 221,
     "metadata": {},
     "output_type": "execute_result"
    }
   ],
   "source": [
    "c.get_loan_info_by_investor(web3.eth.accounts[2]) #Get all the loans Hannah has invested in and how much"
   ]
  },
  {
   "cell_type": "code",
   "execution_count": 222,
   "metadata": {},
   "outputs": [
    {
     "name": "stdout",
     "output_type": "stream",
     "text": [
      "0x06F3D5DeDFC5af55D8fb7CA9d6Cc19B86e782D26\n",
      "0x45DDA7f8e1CA4F0F216501Af17D04c20A786Bde5\n",
      "0x06F3D5DeDFC5af55D8fb7CA9d6Cc19B86e782D26\n"
     ]
    },
    {
     "data": {
      "text/html": [
       "<div>\n",
       "<style scoped>\n",
       "    .dataframe tbody tr th:only-of-type {\n",
       "        vertical-align: middle;\n",
       "    }\n",
       "\n",
       "    .dataframe tbody tr th {\n",
       "        vertical-align: top;\n",
       "    }\n",
       "\n",
       "    .dataframe thead th {\n",
       "        text-align: right;\n",
       "    }\n",
       "</style>\n",
       "<table border=\"1\" class=\"dataframe\">\n",
       "  <thead>\n",
       "    <tr style=\"text-align: right;\">\n",
       "      <th></th>\n",
       "      <th>investorPublicKey</th>\n",
       "      <th>firstName</th>\n",
       "      <th>lastName</th>\n",
       "      <th>accountBalance</th>\n",
       "      <th>numInvestments</th>\n",
       "      <th>investorId</th>\n",
       "      <th>Exists</th>\n",
       "      <th>amountInvested</th>\n",
       "      <th>loanId</th>\n",
       "      <th>borrowerPublicKey</th>\n",
       "    </tr>\n",
       "  </thead>\n",
       "  <tbody>\n",
       "    <tr>\n",
       "      <th>0</th>\n",
       "      <td>0x06F3D5DeDFC5af55D8fb7CA9d6Cc19B86e782D26</td>\n",
       "      <td>MIKE</td>\n",
       "      <td>LUCAS</td>\n",
       "      <td>49850</td>\n",
       "      <td>2</td>\n",
       "      <td>1</td>\n",
       "      <td>True</td>\n",
       "      <td>100</td>\n",
       "      <td>0</td>\n",
       "      <td>0x73b96EcBb2FabE945Be6781507e1320F3538Cd2e</td>\n",
       "    </tr>\n",
       "    <tr>\n",
       "      <th>0</th>\n",
       "      <td>0x45DDA7f8e1CA4F0F216501Af17D04c20A786Bde5</td>\n",
       "      <td>Hannah</td>\n",
       "      <td>Morgan</td>\n",
       "      <td>64900</td>\n",
       "      <td>1</td>\n",
       "      <td>0</td>\n",
       "      <td>True</td>\n",
       "      <td>100</td>\n",
       "      <td>0</td>\n",
       "      <td>0x73b96EcBb2FabE945Be6781507e1320F3538Cd2e</td>\n",
       "    </tr>\n",
       "    <tr>\n",
       "      <th>0</th>\n",
       "      <td>0x06F3D5DeDFC5af55D8fb7CA9d6Cc19B86e782D26</td>\n",
       "      <td>MIKE</td>\n",
       "      <td>LUCAS</td>\n",
       "      <td>49850</td>\n",
       "      <td>2</td>\n",
       "      <td>1</td>\n",
       "      <td>True</td>\n",
       "      <td>50</td>\n",
       "      <td>1</td>\n",
       "      <td>0x73b96EcBb2FabE945Be6781507e1320F3538Cd2e</td>\n",
       "    </tr>\n",
       "  </tbody>\n",
       "</table>\n",
       "</div>"
      ],
      "text/plain": [
       "                            investorPublicKey firstName lastName  \\\n",
       "0  0x06F3D5DeDFC5af55D8fb7CA9d6Cc19B86e782D26      MIKE    LUCAS   \n",
       "0  0x45DDA7f8e1CA4F0F216501Af17D04c20A786Bde5    Hannah   Morgan   \n",
       "0  0x06F3D5DeDFC5af55D8fb7CA9d6Cc19B86e782D26      MIKE    LUCAS   \n",
       "\n",
       "  accountBalance numInvestments investorId Exists  amountInvested  loanId  \\\n",
       "0          49850              2          1   True             100       0   \n",
       "0          64900              1          0   True             100       0   \n",
       "0          49850              2          1   True              50       1   \n",
       "\n",
       "                            borrowerPublicKey  \n",
       "0  0x73b96EcBb2FabE945Be6781507e1320F3538Cd2e  \n",
       "0  0x73b96EcBb2FabE945Be6781507e1320F3538Cd2e  \n",
       "0  0x73b96EcBb2FabE945Be6781507e1320F3538Cd2e  "
      ]
     },
     "execution_count": 222,
     "metadata": {},
     "output_type": "execute_result"
    }
   ],
   "source": [
    "c.get_investors_from_borrower(web3.eth.accounts[6]) #Pass in borrower who has funded loans to see who they have to payback"
   ]
  },
  {
   "cell_type": "code",
   "execution_count": 223,
   "metadata": {},
   "outputs": [],
   "source": [
    "#This will fail because we already have a borrower with web3.eth.accounts[6]\n",
    "#message = c.contract.functions.createBorrower(\"Francois\", \"Tyler\", 85000).transact({'from': web3.eth.accounts[6]})\n",
    "#message_receipt = web3.eth.wait_for_transaction_receipt(message)"
   ]
  },
  {
   "cell_type": "code",
   "execution_count": 224,
   "metadata": {},
   "outputs": [
    {
     "data": {
      "text/plain": [
       "[100, 100]"
      ]
     },
     "execution_count": 224,
     "metadata": {},
     "output_type": "execute_result"
    }
   ],
   "source": [
    "c.contract.functions.getFundingAmounts(0).call()"
   ]
  },
  {
   "cell_type": "code",
   "execution_count": 225,
   "metadata": {},
   "outputs": [],
   "source": [
    "#Let's now payback an investor                 #InvestorId, LoanId, Amount\n",
    "message = c.contract.functions._paybackInvestor(1,0,50).transact({'from':web3.eth.accounts[6]})\n",
    "message_receipt = web3.eth.wait_for_transaction_receipt(message)"
   ]
  },
  {
   "cell_type": "code",
   "execution_count": 226,
   "metadata": {},
   "outputs": [
    {
     "data": {
      "text/plain": [
       "[50, 100]"
      ]
     },
     "execution_count": 226,
     "metadata": {},
     "output_type": "execute_result"
    }
   ],
   "source": [
    "c.contract.functions.getFundingAmounts(0).call()"
   ]
  },
  {
   "cell_type": "code",
   "execution_count": 227,
   "metadata": {},
   "outputs": [
    {
     "name": "stdout",
     "output_type": "stream",
     "text": [
      "0x06F3D5DeDFC5af55D8fb7CA9d6Cc19B86e782D26\n",
      "0x45DDA7f8e1CA4F0F216501Af17D04c20A786Bde5\n",
      "0x06F3D5DeDFC5af55D8fb7CA9d6Cc19B86e782D26\n"
     ]
    },
    {
     "data": {
      "text/html": [
       "<div>\n",
       "<style scoped>\n",
       "    .dataframe tbody tr th:only-of-type {\n",
       "        vertical-align: middle;\n",
       "    }\n",
       "\n",
       "    .dataframe tbody tr th {\n",
       "        vertical-align: top;\n",
       "    }\n",
       "\n",
       "    .dataframe thead th {\n",
       "        text-align: right;\n",
       "    }\n",
       "</style>\n",
       "<table border=\"1\" class=\"dataframe\">\n",
       "  <thead>\n",
       "    <tr style=\"text-align: right;\">\n",
       "      <th></th>\n",
       "      <th>investorPublicKey</th>\n",
       "      <th>firstName</th>\n",
       "      <th>lastName</th>\n",
       "      <th>accountBalance</th>\n",
       "      <th>numInvestments</th>\n",
       "      <th>investorId</th>\n",
       "      <th>Exists</th>\n",
       "      <th>amountInvested</th>\n",
       "      <th>loanId</th>\n",
       "      <th>borrowerPublicKey</th>\n",
       "    </tr>\n",
       "  </thead>\n",
       "  <tbody>\n",
       "    <tr>\n",
       "      <th>0</th>\n",
       "      <td>0x06F3D5DeDFC5af55D8fb7CA9d6Cc19B86e782D26</td>\n",
       "      <td>MIKE</td>\n",
       "      <td>LUCAS</td>\n",
       "      <td>49900</td>\n",
       "      <td>2</td>\n",
       "      <td>1</td>\n",
       "      <td>True</td>\n",
       "      <td>50</td>\n",
       "      <td>0</td>\n",
       "      <td>0x73b96EcBb2FabE945Be6781507e1320F3538Cd2e</td>\n",
       "    </tr>\n",
       "    <tr>\n",
       "      <th>0</th>\n",
       "      <td>0x45DDA7f8e1CA4F0F216501Af17D04c20A786Bde5</td>\n",
       "      <td>Hannah</td>\n",
       "      <td>Morgan</td>\n",
       "      <td>64900</td>\n",
       "      <td>1</td>\n",
       "      <td>0</td>\n",
       "      <td>True</td>\n",
       "      <td>100</td>\n",
       "      <td>0</td>\n",
       "      <td>0x73b96EcBb2FabE945Be6781507e1320F3538Cd2e</td>\n",
       "    </tr>\n",
       "    <tr>\n",
       "      <th>0</th>\n",
       "      <td>0x06F3D5DeDFC5af55D8fb7CA9d6Cc19B86e782D26</td>\n",
       "      <td>MIKE</td>\n",
       "      <td>LUCAS</td>\n",
       "      <td>49900</td>\n",
       "      <td>2</td>\n",
       "      <td>1</td>\n",
       "      <td>True</td>\n",
       "      <td>50</td>\n",
       "      <td>1</td>\n",
       "      <td>0x73b96EcBb2FabE945Be6781507e1320F3538Cd2e</td>\n",
       "    </tr>\n",
       "  </tbody>\n",
       "</table>\n",
       "</div>"
      ],
      "text/plain": [
       "                            investorPublicKey firstName lastName  \\\n",
       "0  0x06F3D5DeDFC5af55D8fb7CA9d6Cc19B86e782D26      MIKE    LUCAS   \n",
       "0  0x45DDA7f8e1CA4F0F216501Af17D04c20A786Bde5    Hannah   Morgan   \n",
       "0  0x06F3D5DeDFC5af55D8fb7CA9d6Cc19B86e782D26      MIKE    LUCAS   \n",
       "\n",
       "  accountBalance numInvestments investorId Exists  amountInvested  loanId  \\\n",
       "0          49900              2          1   True              50       0   \n",
       "0          64900              1          0   True             100       0   \n",
       "0          49900              2          1   True              50       1   \n",
       "\n",
       "                            borrowerPublicKey  \n",
       "0  0x73b96EcBb2FabE945Be6781507e1320F3538Cd2e  \n",
       "0  0x73b96EcBb2FabE945Be6781507e1320F3538Cd2e  \n",
       "0  0x73b96EcBb2FabE945Be6781507e1320F3538Cd2e  "
      ]
     },
     "execution_count": 227,
     "metadata": {},
     "output_type": "execute_result"
    }
   ],
   "source": [
    "c.get_investors_from_borrower(web3.eth.accounts[6]) #Pass in borrower who has funded loans to see who they have to payback"
   ]
  },
  {
   "cell_type": "code",
   "execution_count": 237,
   "metadata": {},
   "outputs": [
    {
     "ename": "BadFunctionCallOutput",
     "evalue": "Could not transact with/call contract function, is contract deployed correctly and chain synced?",
     "output_type": "error",
     "traceback": [
      "\u001b[0;31m---------------------------------------------------------------------------\u001b[0m",
      "\u001b[0;31mInsufficientDataBytes\u001b[0m                     Traceback (most recent call last)",
      "\u001b[0;32m/opt/anaconda3/envs/ethenv/lib/python3.7/site-packages/web3/contract.py\u001b[0m in \u001b[0;36mcall_contract_function\u001b[0;34m(web3, address, normalizers, function_identifier, transaction, block_id, contract_abi, fn_abi, state_override, *args, **kwargs)\u001b[0m\n\u001b[1;32m   1512\u001b[0m     \u001b[0;32mtry\u001b[0m\u001b[0;34m:\u001b[0m\u001b[0;34m\u001b[0m\u001b[0;34m\u001b[0m\u001b[0m\n\u001b[0;32m-> 1513\u001b[0;31m         \u001b[0moutput_data\u001b[0m \u001b[0;34m=\u001b[0m \u001b[0mweb3\u001b[0m\u001b[0;34m.\u001b[0m\u001b[0mcodec\u001b[0m\u001b[0;34m.\u001b[0m\u001b[0mdecode_abi\u001b[0m\u001b[0;34m(\u001b[0m\u001b[0moutput_types\u001b[0m\u001b[0;34m,\u001b[0m \u001b[0mreturn_data\u001b[0m\u001b[0;34m)\u001b[0m\u001b[0;34m\u001b[0m\u001b[0;34m\u001b[0m\u001b[0m\n\u001b[0m\u001b[1;32m   1514\u001b[0m     \u001b[0;32mexcept\u001b[0m \u001b[0mDecodingError\u001b[0m \u001b[0;32mas\u001b[0m \u001b[0me\u001b[0m\u001b[0;34m:\u001b[0m\u001b[0;34m\u001b[0m\u001b[0;34m\u001b[0m\u001b[0m\n",
      "\u001b[0;32m/opt/anaconda3/envs/ethenv/lib/python3.7/site-packages/eth_abi/codec.py\u001b[0m in \u001b[0;36mdecode_abi\u001b[0;34m(self, types, data)\u001b[0m\n\u001b[1;32m    180\u001b[0m \u001b[0;34m\u001b[0m\u001b[0m\n\u001b[0;32m--> 181\u001b[0;31m         \u001b[0;32mreturn\u001b[0m \u001b[0mdecoder\u001b[0m\u001b[0;34m(\u001b[0m\u001b[0mstream\u001b[0m\u001b[0;34m)\u001b[0m\u001b[0;34m\u001b[0m\u001b[0;34m\u001b[0m\u001b[0m\n\u001b[0m\u001b[1;32m    182\u001b[0m \u001b[0;34m\u001b[0m\u001b[0m\n",
      "\u001b[0;32m/opt/anaconda3/envs/ethenv/lib/python3.7/site-packages/eth_abi/decoding.py\u001b[0m in \u001b[0;36m__call__\u001b[0;34m(self, stream)\u001b[0m\n\u001b[1;32m    126\u001b[0m     \u001b[0;32mdef\u001b[0m \u001b[0m__call__\u001b[0m\u001b[0;34m(\u001b[0m\u001b[0mself\u001b[0m\u001b[0;34m,\u001b[0m \u001b[0mstream\u001b[0m\u001b[0;34m:\u001b[0m \u001b[0mContextFramesBytesIO\u001b[0m\u001b[0;34m)\u001b[0m \u001b[0;34m->\u001b[0m \u001b[0mAny\u001b[0m\u001b[0;34m:\u001b[0m\u001b[0;34m\u001b[0m\u001b[0;34m\u001b[0m\u001b[0m\n\u001b[0;32m--> 127\u001b[0;31m         \u001b[0;32mreturn\u001b[0m \u001b[0mself\u001b[0m\u001b[0;34m.\u001b[0m\u001b[0mdecode\u001b[0m\u001b[0;34m(\u001b[0m\u001b[0mstream\u001b[0m\u001b[0;34m)\u001b[0m\u001b[0;34m\u001b[0m\u001b[0;34m\u001b[0m\u001b[0m\n\u001b[0m\u001b[1;32m    128\u001b[0m \u001b[0;34m\u001b[0m\u001b[0m\n",
      "\u001b[0;32m/opt/anaconda3/envs/ethenv/lib/python3.7/site-packages/eth_utils/functional.py\u001b[0m in \u001b[0;36minner\u001b[0;34m(*args, **kwargs)\u001b[0m\n\u001b[1;32m     44\u001b[0m         \u001b[0;32mdef\u001b[0m \u001b[0minner\u001b[0m\u001b[0;34m(\u001b[0m\u001b[0;34m*\u001b[0m\u001b[0margs\u001b[0m\u001b[0;34m,\u001b[0m \u001b[0;34m**\u001b[0m\u001b[0mkwargs\u001b[0m\u001b[0;34m)\u001b[0m \u001b[0;34m->\u001b[0m \u001b[0mT\u001b[0m\u001b[0;34m:\u001b[0m  \u001b[0;31m# type: ignore\u001b[0m\u001b[0;34m\u001b[0m\u001b[0;34m\u001b[0m\u001b[0m\n\u001b[0;32m---> 45\u001b[0;31m             \u001b[0;32mreturn\u001b[0m \u001b[0mcallback\u001b[0m\u001b[0;34m(\u001b[0m\u001b[0mfn\u001b[0m\u001b[0;34m(\u001b[0m\u001b[0;34m*\u001b[0m\u001b[0margs\u001b[0m\u001b[0;34m,\u001b[0m \u001b[0;34m**\u001b[0m\u001b[0mkwargs\u001b[0m\u001b[0;34m)\u001b[0m\u001b[0;34m)\u001b[0m\u001b[0;34m\u001b[0m\u001b[0;34m\u001b[0m\u001b[0m\n\u001b[0m\u001b[1;32m     46\u001b[0m \u001b[0;34m\u001b[0m\u001b[0m\n",
      "\u001b[0;32m/opt/anaconda3/envs/ethenv/lib/python3.7/site-packages/eth_abi/decoding.py\u001b[0m in \u001b[0;36mdecode\u001b[0;34m(self, stream)\u001b[0m\n\u001b[1;32m    172\u001b[0m         \u001b[0;32mfor\u001b[0m \u001b[0mdecoder\u001b[0m \u001b[0;32min\u001b[0m \u001b[0mself\u001b[0m\u001b[0;34m.\u001b[0m\u001b[0mdecoders\u001b[0m\u001b[0;34m:\u001b[0m\u001b[0;34m\u001b[0m\u001b[0;34m\u001b[0m\u001b[0m\n\u001b[0;32m--> 173\u001b[0;31m             \u001b[0;32myield\u001b[0m \u001b[0mdecoder\u001b[0m\u001b[0;34m(\u001b[0m\u001b[0mstream\u001b[0m\u001b[0;34m)\u001b[0m\u001b[0;34m\u001b[0m\u001b[0;34m\u001b[0m\u001b[0m\n\u001b[0m\u001b[1;32m    174\u001b[0m \u001b[0;34m\u001b[0m\u001b[0m\n",
      "\u001b[0;32m/opt/anaconda3/envs/ethenv/lib/python3.7/site-packages/eth_abi/decoding.py\u001b[0m in \u001b[0;36m__call__\u001b[0;34m(self, stream)\u001b[0m\n\u001b[1;32m    126\u001b[0m     \u001b[0;32mdef\u001b[0m \u001b[0m__call__\u001b[0m\u001b[0;34m(\u001b[0m\u001b[0mself\u001b[0m\u001b[0;34m,\u001b[0m \u001b[0mstream\u001b[0m\u001b[0;34m:\u001b[0m \u001b[0mContextFramesBytesIO\u001b[0m\u001b[0;34m)\u001b[0m \u001b[0;34m->\u001b[0m \u001b[0mAny\u001b[0m\u001b[0;34m:\u001b[0m\u001b[0;34m\u001b[0m\u001b[0;34m\u001b[0m\u001b[0m\n\u001b[0;32m--> 127\u001b[0;31m         \u001b[0;32mreturn\u001b[0m \u001b[0mself\u001b[0m\u001b[0;34m.\u001b[0m\u001b[0mdecode\u001b[0m\u001b[0;34m(\u001b[0m\u001b[0mstream\u001b[0m\u001b[0;34m)\u001b[0m\u001b[0;34m\u001b[0m\u001b[0;34m\u001b[0m\u001b[0m\n\u001b[0m\u001b[1;32m    128\u001b[0m \u001b[0;34m\u001b[0m\u001b[0m\n",
      "\u001b[0;32m/opt/anaconda3/envs/ethenv/lib/python3.7/site-packages/eth_abi/decoding.py\u001b[0m in \u001b[0;36mdecode\u001b[0;34m(self, stream)\u001b[0m\n\u001b[1;32m    141\u001b[0m     \u001b[0;32mdef\u001b[0m \u001b[0mdecode\u001b[0m\u001b[0;34m(\u001b[0m\u001b[0mself\u001b[0m\u001b[0;34m,\u001b[0m \u001b[0mstream\u001b[0m\u001b[0;34m)\u001b[0m\u001b[0;34m:\u001b[0m\u001b[0;34m\u001b[0m\u001b[0;34m\u001b[0m\u001b[0m\n\u001b[0;32m--> 142\u001b[0;31m         \u001b[0mstart_pos\u001b[0m \u001b[0;34m=\u001b[0m \u001b[0mdecode_uint_256\u001b[0m\u001b[0;34m(\u001b[0m\u001b[0mstream\u001b[0m\u001b[0;34m)\u001b[0m\u001b[0;34m\u001b[0m\u001b[0;34m\u001b[0m\u001b[0m\n\u001b[0m\u001b[1;32m    143\u001b[0m \u001b[0;34m\u001b[0m\u001b[0m\n",
      "\u001b[0;32m/opt/anaconda3/envs/ethenv/lib/python3.7/site-packages/eth_abi/decoding.py\u001b[0m in \u001b[0;36m__call__\u001b[0;34m(self, stream)\u001b[0m\n\u001b[1;32m    126\u001b[0m     \u001b[0;32mdef\u001b[0m \u001b[0m__call__\u001b[0m\u001b[0;34m(\u001b[0m\u001b[0mself\u001b[0m\u001b[0;34m,\u001b[0m \u001b[0mstream\u001b[0m\u001b[0;34m:\u001b[0m \u001b[0mContextFramesBytesIO\u001b[0m\u001b[0;34m)\u001b[0m \u001b[0;34m->\u001b[0m \u001b[0mAny\u001b[0m\u001b[0;34m:\u001b[0m\u001b[0;34m\u001b[0m\u001b[0;34m\u001b[0m\u001b[0m\n\u001b[0;32m--> 127\u001b[0;31m         \u001b[0;32mreturn\u001b[0m \u001b[0mself\u001b[0m\u001b[0;34m.\u001b[0m\u001b[0mdecode\u001b[0m\u001b[0;34m(\u001b[0m\u001b[0mstream\u001b[0m\u001b[0;34m)\u001b[0m\u001b[0;34m\u001b[0m\u001b[0;34m\u001b[0m\u001b[0m\n\u001b[0m\u001b[1;32m    128\u001b[0m \u001b[0;34m\u001b[0m\u001b[0m\n",
      "\u001b[0;32m/opt/anaconda3/envs/ethenv/lib/python3.7/site-packages/eth_abi/decoding.py\u001b[0m in \u001b[0;36mdecode\u001b[0;34m(self, stream)\u001b[0m\n\u001b[1;32m    197\u001b[0m     \u001b[0;32mdef\u001b[0m \u001b[0mdecode\u001b[0m\u001b[0;34m(\u001b[0m\u001b[0mself\u001b[0m\u001b[0;34m,\u001b[0m \u001b[0mstream\u001b[0m\u001b[0;34m)\u001b[0m\u001b[0;34m:\u001b[0m\u001b[0;34m\u001b[0m\u001b[0;34m\u001b[0m\u001b[0m\n\u001b[0;32m--> 198\u001b[0;31m         \u001b[0mraw_data\u001b[0m \u001b[0;34m=\u001b[0m \u001b[0mself\u001b[0m\u001b[0;34m.\u001b[0m\u001b[0mread_data_from_stream\u001b[0m\u001b[0;34m(\u001b[0m\u001b[0mstream\u001b[0m\u001b[0;34m)\u001b[0m\u001b[0;34m\u001b[0m\u001b[0;34m\u001b[0m\u001b[0m\n\u001b[0m\u001b[1;32m    199\u001b[0m         \u001b[0mdata\u001b[0m\u001b[0;34m,\u001b[0m \u001b[0mpadding_bytes\u001b[0m \u001b[0;34m=\u001b[0m \u001b[0mself\u001b[0m\u001b[0;34m.\u001b[0m\u001b[0msplit_data_and_padding\u001b[0m\u001b[0;34m(\u001b[0m\u001b[0mraw_data\u001b[0m\u001b[0;34m)\u001b[0m\u001b[0;34m\u001b[0m\u001b[0;34m\u001b[0m\u001b[0m\n",
      "\u001b[0;32m/opt/anaconda3/envs/ethenv/lib/python3.7/site-packages/eth_abi/decoding.py\u001b[0m in \u001b[0;36mread_data_from_stream\u001b[0;34m(self, stream)\u001b[0m\n\u001b[1;32m    307\u001b[0m                     \u001b[0mself\u001b[0m\u001b[0;34m.\u001b[0m\u001b[0mdata_byte_size\u001b[0m\u001b[0;34m,\u001b[0m\u001b[0;34m\u001b[0m\u001b[0;34m\u001b[0m\u001b[0m\n\u001b[0;32m--> 308\u001b[0;31m                     \u001b[0mlen\u001b[0m\u001b[0;34m(\u001b[0m\u001b[0mdata\u001b[0m\u001b[0;34m)\u001b[0m\u001b[0;34m,\u001b[0m\u001b[0;34m\u001b[0m\u001b[0;34m\u001b[0m\u001b[0m\n\u001b[0m\u001b[1;32m    309\u001b[0m                 )\n",
      "\u001b[0;31mInsufficientDataBytes\u001b[0m: Tried to read 32 bytes.  Only got 0 bytes",
      "\nThe above exception was the direct cause of the following exception:\n",
      "\u001b[0;31mBadFunctionCallOutput\u001b[0m                     Traceback (most recent call last)",
      "\u001b[0;32m<ipython-input-237-49527e3ac3f3>\u001b[0m in \u001b[0;36m<module>\u001b[0;34m\u001b[0m\n\u001b[0;32m----> 1\u001b[0;31m \u001b[0mc\u001b[0m\u001b[0;34m.\u001b[0m\u001b[0mgetInvestorLoanContracts\u001b[0m\u001b[0;34m(\u001b[0m\u001b[0mweb3\u001b[0m\u001b[0;34m.\u001b[0m\u001b[0meth\u001b[0m\u001b[0;34m.\u001b[0m\u001b[0maccounts\u001b[0m\u001b[0;34m[\u001b[0m\u001b[0;36m0\u001b[0m\u001b[0;34m]\u001b[0m\u001b[0;34m)\u001b[0m\u001b[0;34m\u001b[0m\u001b[0;34m\u001b[0m\u001b[0m\n\u001b[0m",
      "\u001b[0;32m<ipython-input-208-a76f2e7712e7>\u001b[0m in \u001b[0;36mgetInvestorLoanContracts\u001b[0;34m(self, investorAddress)\u001b[0m\n\u001b[1;32m     55\u001b[0m \u001b[0;34m\u001b[0m\u001b[0m\n\u001b[1;32m     56\u001b[0m     \u001b[0;32mdef\u001b[0m \u001b[0mgetInvestorLoanContracts\u001b[0m\u001b[0;34m(\u001b[0m\u001b[0mself\u001b[0m\u001b[0;34m,\u001b[0m\u001b[0minvestorAddress\u001b[0m\u001b[0;34m)\u001b[0m\u001b[0;34m:\u001b[0m\u001b[0;34m\u001b[0m\u001b[0;34m\u001b[0m\u001b[0m\n\u001b[0;32m---> 57\u001b[0;31m         \u001b[0mloancontractids\u001b[0m \u001b[0;34m=\u001b[0m \u001b[0mself\u001b[0m\u001b[0;34m.\u001b[0m\u001b[0mcontract\u001b[0m\u001b[0;34m.\u001b[0m\u001b[0mfunctions\u001b[0m\u001b[0;34m.\u001b[0m\u001b[0mgetLoanContractsInvestorHas\u001b[0m\u001b[0;34m(\u001b[0m\u001b[0minvestorAddress\u001b[0m\u001b[0;34m)\u001b[0m\u001b[0;34m.\u001b[0m\u001b[0mcall\u001b[0m\u001b[0;34m(\u001b[0m\u001b[0;34m)\u001b[0m\u001b[0;34m\u001b[0m\u001b[0;34m\u001b[0m\u001b[0m\n\u001b[0m\u001b[1;32m     58\u001b[0m         \u001b[0mlcs\u001b[0m \u001b[0;34m=\u001b[0m \u001b[0;34m[\u001b[0m\u001b[0;34m]\u001b[0m\u001b[0;34m\u001b[0m\u001b[0;34m\u001b[0m\u001b[0m\n\u001b[1;32m     59\u001b[0m         \u001b[0;32mfor\u001b[0m \u001b[0mlcid\u001b[0m \u001b[0;32min\u001b[0m \u001b[0mloancontractids\u001b[0m\u001b[0;34m:\u001b[0m\u001b[0;34m\u001b[0m\u001b[0;34m\u001b[0m\u001b[0m\n",
      "\u001b[0;32m/opt/anaconda3/envs/ethenv/lib/python3.7/site-packages/web3/contract.py\u001b[0m in \u001b[0;36mcall\u001b[0;34m(self, transaction, block_identifier, state_override)\u001b[0m\n\u001b[1;32m    966\u001b[0m             \u001b[0mstate_override\u001b[0m\u001b[0;34m,\u001b[0m\u001b[0;34m\u001b[0m\u001b[0;34m\u001b[0m\u001b[0m\n\u001b[1;32m    967\u001b[0m             \u001b[0;34m*\u001b[0m\u001b[0mself\u001b[0m\u001b[0;34m.\u001b[0m\u001b[0margs\u001b[0m\u001b[0;34m,\u001b[0m\u001b[0;34m\u001b[0m\u001b[0;34m\u001b[0m\u001b[0m\n\u001b[0;32m--> 968\u001b[0;31m             \u001b[0;34m**\u001b[0m\u001b[0mself\u001b[0m\u001b[0;34m.\u001b[0m\u001b[0mkwargs\u001b[0m\u001b[0;34m\u001b[0m\u001b[0;34m\u001b[0m\u001b[0m\n\u001b[0m\u001b[1;32m    969\u001b[0m         )\n\u001b[1;32m    970\u001b[0m \u001b[0;34m\u001b[0m\u001b[0m\n",
      "\u001b[0;32m/opt/anaconda3/envs/ethenv/lib/python3.7/site-packages/web3/contract.py\u001b[0m in \u001b[0;36mcall_contract_function\u001b[0;34m(web3, address, normalizers, function_identifier, transaction, block_id, contract_abi, fn_abi, state_override, *args, **kwargs)\u001b[0m\n\u001b[1;32m   1528\u001b[0m                 \u001b[0;34m\"return data {return_data!r} for output_types {output_types}\"\u001b[0m\u001b[0;34m\u001b[0m\u001b[0;34m\u001b[0m\u001b[0m\n\u001b[1;32m   1529\u001b[0m             )\n\u001b[0;32m-> 1530\u001b[0;31m         \u001b[0;32mraise\u001b[0m \u001b[0mBadFunctionCallOutput\u001b[0m\u001b[0;34m(\u001b[0m\u001b[0mmsg\u001b[0m\u001b[0;34m)\u001b[0m \u001b[0;32mfrom\u001b[0m \u001b[0me\u001b[0m\u001b[0;34m\u001b[0m\u001b[0;34m\u001b[0m\u001b[0m\n\u001b[0m\u001b[1;32m   1531\u001b[0m \u001b[0;34m\u001b[0m\u001b[0m\n\u001b[1;32m   1532\u001b[0m     _normalizers = itertools.chain(\n",
      "\u001b[0;31mBadFunctionCallOutput\u001b[0m: Could not transact with/call contract function, is contract deployed correctly and chain synced?"
     ]
    }
   ],
   "source": [
    "c.getInvestorLoanContracts(web3.eth.accounts[0])"
   ]
  },
  {
   "cell_type": "code",
   "execution_count": 236,
   "metadata": {},
   "outputs": [
    {
     "ename": "BadFunctionCallOutput",
     "evalue": "Could not transact with/call contract function, is contract deployed correctly and chain synced?",
     "output_type": "error",
     "traceback": [
      "\u001b[0;31m---------------------------------------------------------------------------\u001b[0m",
      "\u001b[0;31mInsufficientDataBytes\u001b[0m                     Traceback (most recent call last)",
      "\u001b[0;32m/opt/anaconda3/envs/ethenv/lib/python3.7/site-packages/web3/contract.py\u001b[0m in \u001b[0;36mcall_contract_function\u001b[0;34m(web3, address, normalizers, function_identifier, transaction, block_id, contract_abi, fn_abi, state_override, *args, **kwargs)\u001b[0m\n\u001b[1;32m   1512\u001b[0m     \u001b[0;32mtry\u001b[0m\u001b[0;34m:\u001b[0m\u001b[0;34m\u001b[0m\u001b[0;34m\u001b[0m\u001b[0m\n\u001b[0;32m-> 1513\u001b[0;31m         \u001b[0moutput_data\u001b[0m \u001b[0;34m=\u001b[0m \u001b[0mweb3\u001b[0m\u001b[0;34m.\u001b[0m\u001b[0mcodec\u001b[0m\u001b[0;34m.\u001b[0m\u001b[0mdecode_abi\u001b[0m\u001b[0;34m(\u001b[0m\u001b[0moutput_types\u001b[0m\u001b[0;34m,\u001b[0m \u001b[0mreturn_data\u001b[0m\u001b[0;34m)\u001b[0m\u001b[0;34m\u001b[0m\u001b[0;34m\u001b[0m\u001b[0m\n\u001b[0m\u001b[1;32m   1514\u001b[0m     \u001b[0;32mexcept\u001b[0m \u001b[0mDecodingError\u001b[0m \u001b[0;32mas\u001b[0m \u001b[0me\u001b[0m\u001b[0;34m:\u001b[0m\u001b[0;34m\u001b[0m\u001b[0;34m\u001b[0m\u001b[0m\n",
      "\u001b[0;32m/opt/anaconda3/envs/ethenv/lib/python3.7/site-packages/eth_abi/codec.py\u001b[0m in \u001b[0;36mdecode_abi\u001b[0;34m(self, types, data)\u001b[0m\n\u001b[1;32m    180\u001b[0m \u001b[0;34m\u001b[0m\u001b[0m\n\u001b[0;32m--> 181\u001b[0;31m         \u001b[0;32mreturn\u001b[0m \u001b[0mdecoder\u001b[0m\u001b[0;34m(\u001b[0m\u001b[0mstream\u001b[0m\u001b[0;34m)\u001b[0m\u001b[0;34m\u001b[0m\u001b[0;34m\u001b[0m\u001b[0m\n\u001b[0m\u001b[1;32m    182\u001b[0m \u001b[0;34m\u001b[0m\u001b[0m\n",
      "\u001b[0;32m/opt/anaconda3/envs/ethenv/lib/python3.7/site-packages/eth_abi/decoding.py\u001b[0m in \u001b[0;36m__call__\u001b[0;34m(self, stream)\u001b[0m\n\u001b[1;32m    126\u001b[0m     \u001b[0;32mdef\u001b[0m \u001b[0m__call__\u001b[0m\u001b[0;34m(\u001b[0m\u001b[0mself\u001b[0m\u001b[0;34m,\u001b[0m \u001b[0mstream\u001b[0m\u001b[0;34m:\u001b[0m \u001b[0mContextFramesBytesIO\u001b[0m\u001b[0;34m)\u001b[0m \u001b[0;34m->\u001b[0m \u001b[0mAny\u001b[0m\u001b[0;34m:\u001b[0m\u001b[0;34m\u001b[0m\u001b[0;34m\u001b[0m\u001b[0m\n\u001b[0;32m--> 127\u001b[0;31m         \u001b[0;32mreturn\u001b[0m \u001b[0mself\u001b[0m\u001b[0;34m.\u001b[0m\u001b[0mdecode\u001b[0m\u001b[0;34m(\u001b[0m\u001b[0mstream\u001b[0m\u001b[0;34m)\u001b[0m\u001b[0;34m\u001b[0m\u001b[0;34m\u001b[0m\u001b[0m\n\u001b[0m\u001b[1;32m    128\u001b[0m \u001b[0;34m\u001b[0m\u001b[0m\n",
      "\u001b[0;32m/opt/anaconda3/envs/ethenv/lib/python3.7/site-packages/eth_utils/functional.py\u001b[0m in \u001b[0;36minner\u001b[0;34m(*args, **kwargs)\u001b[0m\n\u001b[1;32m     44\u001b[0m         \u001b[0;32mdef\u001b[0m \u001b[0minner\u001b[0m\u001b[0;34m(\u001b[0m\u001b[0;34m*\u001b[0m\u001b[0margs\u001b[0m\u001b[0;34m,\u001b[0m \u001b[0;34m**\u001b[0m\u001b[0mkwargs\u001b[0m\u001b[0;34m)\u001b[0m \u001b[0;34m->\u001b[0m \u001b[0mT\u001b[0m\u001b[0;34m:\u001b[0m  \u001b[0;31m# type: ignore\u001b[0m\u001b[0;34m\u001b[0m\u001b[0;34m\u001b[0m\u001b[0m\n\u001b[0;32m---> 45\u001b[0;31m             \u001b[0;32mreturn\u001b[0m \u001b[0mcallback\u001b[0m\u001b[0;34m(\u001b[0m\u001b[0mfn\u001b[0m\u001b[0;34m(\u001b[0m\u001b[0;34m*\u001b[0m\u001b[0margs\u001b[0m\u001b[0;34m,\u001b[0m \u001b[0;34m**\u001b[0m\u001b[0mkwargs\u001b[0m\u001b[0;34m)\u001b[0m\u001b[0;34m)\u001b[0m\u001b[0;34m\u001b[0m\u001b[0;34m\u001b[0m\u001b[0m\n\u001b[0m\u001b[1;32m     46\u001b[0m \u001b[0;34m\u001b[0m\u001b[0m\n",
      "\u001b[0;32m/opt/anaconda3/envs/ethenv/lib/python3.7/site-packages/eth_abi/decoding.py\u001b[0m in \u001b[0;36mdecode\u001b[0;34m(self, stream)\u001b[0m\n\u001b[1;32m    172\u001b[0m         \u001b[0;32mfor\u001b[0m \u001b[0mdecoder\u001b[0m \u001b[0;32min\u001b[0m \u001b[0mself\u001b[0m\u001b[0;34m.\u001b[0m\u001b[0mdecoders\u001b[0m\u001b[0;34m:\u001b[0m\u001b[0;34m\u001b[0m\u001b[0;34m\u001b[0m\u001b[0m\n\u001b[0;32m--> 173\u001b[0;31m             \u001b[0;32myield\u001b[0m \u001b[0mdecoder\u001b[0m\u001b[0;34m(\u001b[0m\u001b[0mstream\u001b[0m\u001b[0;34m)\u001b[0m\u001b[0;34m\u001b[0m\u001b[0;34m\u001b[0m\u001b[0m\n\u001b[0m\u001b[1;32m    174\u001b[0m \u001b[0;34m\u001b[0m\u001b[0m\n",
      "\u001b[0;32m/opt/anaconda3/envs/ethenv/lib/python3.7/site-packages/eth_abi/decoding.py\u001b[0m in \u001b[0;36m__call__\u001b[0;34m(self, stream)\u001b[0m\n\u001b[1;32m    126\u001b[0m     \u001b[0;32mdef\u001b[0m \u001b[0m__call__\u001b[0m\u001b[0;34m(\u001b[0m\u001b[0mself\u001b[0m\u001b[0;34m,\u001b[0m \u001b[0mstream\u001b[0m\u001b[0;34m:\u001b[0m \u001b[0mContextFramesBytesIO\u001b[0m\u001b[0;34m)\u001b[0m \u001b[0;34m->\u001b[0m \u001b[0mAny\u001b[0m\u001b[0;34m:\u001b[0m\u001b[0;34m\u001b[0m\u001b[0;34m\u001b[0m\u001b[0m\n\u001b[0;32m--> 127\u001b[0;31m         \u001b[0;32mreturn\u001b[0m \u001b[0mself\u001b[0m\u001b[0;34m.\u001b[0m\u001b[0mdecode\u001b[0m\u001b[0;34m(\u001b[0m\u001b[0mstream\u001b[0m\u001b[0;34m)\u001b[0m\u001b[0;34m\u001b[0m\u001b[0;34m\u001b[0m\u001b[0m\n\u001b[0m\u001b[1;32m    128\u001b[0m \u001b[0;34m\u001b[0m\u001b[0m\n",
      "\u001b[0;32m/opt/anaconda3/envs/ethenv/lib/python3.7/site-packages/eth_abi/decoding.py\u001b[0m in \u001b[0;36mdecode\u001b[0;34m(self, stream)\u001b[0m\n\u001b[1;32m    197\u001b[0m     \u001b[0;32mdef\u001b[0m \u001b[0mdecode\u001b[0m\u001b[0;34m(\u001b[0m\u001b[0mself\u001b[0m\u001b[0;34m,\u001b[0m \u001b[0mstream\u001b[0m\u001b[0;34m)\u001b[0m\u001b[0;34m:\u001b[0m\u001b[0;34m\u001b[0m\u001b[0;34m\u001b[0m\u001b[0m\n\u001b[0;32m--> 198\u001b[0;31m         \u001b[0mraw_data\u001b[0m \u001b[0;34m=\u001b[0m \u001b[0mself\u001b[0m\u001b[0;34m.\u001b[0m\u001b[0mread_data_from_stream\u001b[0m\u001b[0;34m(\u001b[0m\u001b[0mstream\u001b[0m\u001b[0;34m)\u001b[0m\u001b[0;34m\u001b[0m\u001b[0;34m\u001b[0m\u001b[0m\n\u001b[0m\u001b[1;32m    199\u001b[0m         \u001b[0mdata\u001b[0m\u001b[0;34m,\u001b[0m \u001b[0mpadding_bytes\u001b[0m \u001b[0;34m=\u001b[0m \u001b[0mself\u001b[0m\u001b[0;34m.\u001b[0m\u001b[0msplit_data_and_padding\u001b[0m\u001b[0;34m(\u001b[0m\u001b[0mraw_data\u001b[0m\u001b[0;34m)\u001b[0m\u001b[0;34m\u001b[0m\u001b[0;34m\u001b[0m\u001b[0m\n",
      "\u001b[0;32m/opt/anaconda3/envs/ethenv/lib/python3.7/site-packages/eth_abi/decoding.py\u001b[0m in \u001b[0;36mread_data_from_stream\u001b[0;34m(self, stream)\u001b[0m\n\u001b[1;32m    307\u001b[0m                     \u001b[0mself\u001b[0m\u001b[0;34m.\u001b[0m\u001b[0mdata_byte_size\u001b[0m\u001b[0;34m,\u001b[0m\u001b[0;34m\u001b[0m\u001b[0;34m\u001b[0m\u001b[0m\n\u001b[0;32m--> 308\u001b[0;31m                     \u001b[0mlen\u001b[0m\u001b[0;34m(\u001b[0m\u001b[0mdata\u001b[0m\u001b[0;34m)\u001b[0m\u001b[0;34m,\u001b[0m\u001b[0;34m\u001b[0m\u001b[0;34m\u001b[0m\u001b[0m\n\u001b[0m\u001b[1;32m    309\u001b[0m                 )\n",
      "\u001b[0;31mInsufficientDataBytes\u001b[0m: Tried to read 32 bytes.  Only got 0 bytes",
      "\nThe above exception was the direct cause of the following exception:\n",
      "\u001b[0;31mBadFunctionCallOutput\u001b[0m                     Traceback (most recent call last)",
      "\u001b[0;32m<ipython-input-236-e19402c0ff25>\u001b[0m in \u001b[0;36m<module>\u001b[0;34m\u001b[0m\n\u001b[0;32m----> 1\u001b[0;31m \u001b[0mc\u001b[0m\u001b[0;34m.\u001b[0m\u001b[0mcontract\u001b[0m\u001b[0;34m.\u001b[0m\u001b[0mfunctions\u001b[0m\u001b[0;34m.\u001b[0m\u001b[0mInvestorAddress2Id\u001b[0m\u001b[0;34m(\u001b[0m\u001b[0;34m'0x199510150ED1A48CC7D722450f9A8Ed663b0Cbe5'\u001b[0m\u001b[0;34m)\u001b[0m\u001b[0;34m.\u001b[0m\u001b[0mcall\u001b[0m\u001b[0;34m(\u001b[0m\u001b[0;34m)\u001b[0m\u001b[0;34m\u001b[0m\u001b[0;34m\u001b[0m\u001b[0m\n\u001b[0m",
      "\u001b[0;32m/opt/anaconda3/envs/ethenv/lib/python3.7/site-packages/web3/contract.py\u001b[0m in \u001b[0;36mcall\u001b[0;34m(self, transaction, block_identifier, state_override)\u001b[0m\n\u001b[1;32m    966\u001b[0m             \u001b[0mstate_override\u001b[0m\u001b[0;34m,\u001b[0m\u001b[0;34m\u001b[0m\u001b[0;34m\u001b[0m\u001b[0m\n\u001b[1;32m    967\u001b[0m             \u001b[0;34m*\u001b[0m\u001b[0mself\u001b[0m\u001b[0;34m.\u001b[0m\u001b[0margs\u001b[0m\u001b[0;34m,\u001b[0m\u001b[0;34m\u001b[0m\u001b[0;34m\u001b[0m\u001b[0m\n\u001b[0;32m--> 968\u001b[0;31m             \u001b[0;34m**\u001b[0m\u001b[0mself\u001b[0m\u001b[0;34m.\u001b[0m\u001b[0mkwargs\u001b[0m\u001b[0;34m\u001b[0m\u001b[0;34m\u001b[0m\u001b[0m\n\u001b[0m\u001b[1;32m    969\u001b[0m         )\n\u001b[1;32m    970\u001b[0m \u001b[0;34m\u001b[0m\u001b[0m\n",
      "\u001b[0;32m/opt/anaconda3/envs/ethenv/lib/python3.7/site-packages/web3/contract.py\u001b[0m in \u001b[0;36mcall_contract_function\u001b[0;34m(web3, address, normalizers, function_identifier, transaction, block_id, contract_abi, fn_abi, state_override, *args, **kwargs)\u001b[0m\n\u001b[1;32m   1528\u001b[0m                 \u001b[0;34m\"return data {return_data!r} for output_types {output_types}\"\u001b[0m\u001b[0;34m\u001b[0m\u001b[0;34m\u001b[0m\u001b[0m\n\u001b[1;32m   1529\u001b[0m             )\n\u001b[0;32m-> 1530\u001b[0;31m         \u001b[0;32mraise\u001b[0m \u001b[0mBadFunctionCallOutput\u001b[0m\u001b[0;34m(\u001b[0m\u001b[0mmsg\u001b[0m\u001b[0;34m)\u001b[0m \u001b[0;32mfrom\u001b[0m \u001b[0me\u001b[0m\u001b[0;34m\u001b[0m\u001b[0;34m\u001b[0m\u001b[0m\n\u001b[0m\u001b[1;32m   1531\u001b[0m \u001b[0;34m\u001b[0m\u001b[0m\n\u001b[1;32m   1532\u001b[0m     _normalizers = itertools.chain(\n",
      "\u001b[0;31mBadFunctionCallOutput\u001b[0m: Could not transact with/call contract function, is contract deployed correctly and chain synced?"
     ]
    }
   ],
   "source": [
    "c.contract.functions.InvestorAddress2Id('0x199510150ED1A48CC7D722450f9A8Ed663b0Cbe5').call()"
   ]
  },
  {
   "cell_type": "code",
   "execution_count": 229,
   "metadata": {},
   "outputs": [],
   "source": [
    "message = c.contract.functions._paybackInvestor(1,0,25).transact({'from':web3.eth.accounts[6]})\n",
    "message_receipt = web3.eth.wait_for_transaction_receipt(message)"
   ]
  },
  {
   "cell_type": "code",
   "execution_count": 230,
   "metadata": {},
   "outputs": [
    {
     "name": "stdout",
     "output_type": "stream",
     "text": [
      "0x06F3D5DeDFC5af55D8fb7CA9d6Cc19B86e782D26\n",
      "0x45DDA7f8e1CA4F0F216501Af17D04c20A786Bde5\n",
      "0x06F3D5DeDFC5af55D8fb7CA9d6Cc19B86e782D26\n"
     ]
    },
    {
     "data": {
      "text/html": [
       "<div>\n",
       "<style scoped>\n",
       "    .dataframe tbody tr th:only-of-type {\n",
       "        vertical-align: middle;\n",
       "    }\n",
       "\n",
       "    .dataframe tbody tr th {\n",
       "        vertical-align: top;\n",
       "    }\n",
       "\n",
       "    .dataframe thead th {\n",
       "        text-align: right;\n",
       "    }\n",
       "</style>\n",
       "<table border=\"1\" class=\"dataframe\">\n",
       "  <thead>\n",
       "    <tr style=\"text-align: right;\">\n",
       "      <th></th>\n",
       "      <th>investorPublicKey</th>\n",
       "      <th>firstName</th>\n",
       "      <th>lastName</th>\n",
       "      <th>accountBalance</th>\n",
       "      <th>numInvestments</th>\n",
       "      <th>investorId</th>\n",
       "      <th>Exists</th>\n",
       "      <th>amountInvested</th>\n",
       "      <th>loanId</th>\n",
       "      <th>borrowerPublicKey</th>\n",
       "    </tr>\n",
       "  </thead>\n",
       "  <tbody>\n",
       "    <tr>\n",
       "      <th>0</th>\n",
       "      <td>0x06F3D5DeDFC5af55D8fb7CA9d6Cc19B86e782D26</td>\n",
       "      <td>MIKE</td>\n",
       "      <td>LUCAS</td>\n",
       "      <td>49925</td>\n",
       "      <td>2</td>\n",
       "      <td>1</td>\n",
       "      <td>True</td>\n",
       "      <td>25</td>\n",
       "      <td>0</td>\n",
       "      <td>0x73b96EcBb2FabE945Be6781507e1320F3538Cd2e</td>\n",
       "    </tr>\n",
       "    <tr>\n",
       "      <th>0</th>\n",
       "      <td>0x45DDA7f8e1CA4F0F216501Af17D04c20A786Bde5</td>\n",
       "      <td>Hannah</td>\n",
       "      <td>Morgan</td>\n",
       "      <td>64900</td>\n",
       "      <td>1</td>\n",
       "      <td>0</td>\n",
       "      <td>True</td>\n",
       "      <td>100</td>\n",
       "      <td>0</td>\n",
       "      <td>0x73b96EcBb2FabE945Be6781507e1320F3538Cd2e</td>\n",
       "    </tr>\n",
       "    <tr>\n",
       "      <th>0</th>\n",
       "      <td>0x06F3D5DeDFC5af55D8fb7CA9d6Cc19B86e782D26</td>\n",
       "      <td>MIKE</td>\n",
       "      <td>LUCAS</td>\n",
       "      <td>49925</td>\n",
       "      <td>2</td>\n",
       "      <td>1</td>\n",
       "      <td>True</td>\n",
       "      <td>50</td>\n",
       "      <td>1</td>\n",
       "      <td>0x73b96EcBb2FabE945Be6781507e1320F3538Cd2e</td>\n",
       "    </tr>\n",
       "  </tbody>\n",
       "</table>\n",
       "</div>"
      ],
      "text/plain": [
       "                            investorPublicKey firstName lastName  \\\n",
       "0  0x06F3D5DeDFC5af55D8fb7CA9d6Cc19B86e782D26      MIKE    LUCAS   \n",
       "0  0x45DDA7f8e1CA4F0F216501Af17D04c20A786Bde5    Hannah   Morgan   \n",
       "0  0x06F3D5DeDFC5af55D8fb7CA9d6Cc19B86e782D26      MIKE    LUCAS   \n",
       "\n",
       "  accountBalance numInvestments investorId Exists  amountInvested  loanId  \\\n",
       "0          49925              2          1   True              25       0   \n",
       "0          64900              1          0   True             100       0   \n",
       "0          49925              2          1   True              50       1   \n",
       "\n",
       "                            borrowerPublicKey  \n",
       "0  0x73b96EcBb2FabE945Be6781507e1320F3538Cd2e  \n",
       "0  0x73b96EcBb2FabE945Be6781507e1320F3538Cd2e  \n",
       "0  0x73b96EcBb2FabE945Be6781507e1320F3538Cd2e  "
      ]
     },
     "execution_count": 230,
     "metadata": {},
     "output_type": "execute_result"
    }
   ],
   "source": [
    "c.get_investors_from_borrower(web3.eth.accounts[6]) #Pass in borrower who has funded loans to see who they have to payback"
   ]
  },
  {
   "cell_type": "code",
   "execution_count": 231,
   "metadata": {},
   "outputs": [
    {
     "data": {
      "text/plain": [
       "[0, 1]"
      ]
     },
     "execution_count": 231,
     "metadata": {},
     "output_type": "execute_result"
    }
   ],
   "source": [
    "#Get loan contracts that Mike has invested in -- account6 (investor id is 1)\n",
    "\n",
    "c.contract.functions.getLoanContractsInvestorHas(web3.eth.accounts[0]).call()"
   ]
  },
  {
   "cell_type": "code",
   "execution_count": 232,
   "metadata": {},
   "outputs": [
    {
     "data": {
      "text/html": [
       "<div>\n",
       "<style scoped>\n",
       "    .dataframe tbody tr th:only-of-type {\n",
       "        vertical-align: middle;\n",
       "    }\n",
       "\n",
       "    .dataframe tbody tr th {\n",
       "        vertical-align: top;\n",
       "    }\n",
       "\n",
       "    .dataframe thead th {\n",
       "        text-align: right;\n",
       "    }\n",
       "</style>\n",
       "<table border=\"1\" class=\"dataframe\">\n",
       "  <thead>\n",
       "    <tr style=\"text-align: right;\">\n",
       "      <th></th>\n",
       "      <th>borrowerPublicKey</th>\n",
       "      <th>investorPublicKey</th>\n",
       "      <th>originalInvestmentAmount</th>\n",
       "      <th>currentPaybackAmount</th>\n",
       "      <th>interestRate</th>\n",
       "      <th>loanTerm</th>\n",
       "      <th>loanId</th>\n",
       "      <th>loanContractId</th>\n",
       "    </tr>\n",
       "  </thead>\n",
       "  <tbody>\n",
       "    <tr>\n",
       "      <th>0</th>\n",
       "      <td>0x73b96EcBb2FabE945Be6781507e1320F3538Cd2e</td>\n",
       "      <td>0x06F3D5DeDFC5af55D8fb7CA9d6Cc19B86e782D26</td>\n",
       "      <td>100</td>\n",
       "      <td>25</td>\n",
       "      <td>2</td>\n",
       "      <td>12</td>\n",
       "      <td>0</td>\n",
       "      <td>0</td>\n",
       "    </tr>\n",
       "    <tr>\n",
       "      <th>0</th>\n",
       "      <td>0x73b96EcBb2FabE945Be6781507e1320F3538Cd2e</td>\n",
       "      <td>0x06F3D5DeDFC5af55D8fb7CA9d6Cc19B86e782D26</td>\n",
       "      <td>50</td>\n",
       "      <td>50</td>\n",
       "      <td>2</td>\n",
       "      <td>12</td>\n",
       "      <td>1</td>\n",
       "      <td>1</td>\n",
       "    </tr>\n",
       "  </tbody>\n",
       "</table>\n",
       "</div>"
      ],
      "text/plain": [
       "                            borrowerPublicKey  \\\n",
       "0  0x73b96EcBb2FabE945Be6781507e1320F3538Cd2e   \n",
       "0  0x73b96EcBb2FabE945Be6781507e1320F3538Cd2e   \n",
       "\n",
       "                            investorPublicKey originalInvestmentAmount  \\\n",
       "0  0x06F3D5DeDFC5af55D8fb7CA9d6Cc19B86e782D26                      100   \n",
       "0  0x06F3D5DeDFC5af55D8fb7CA9d6Cc19B86e782D26                       50   \n",
       "\n",
       "  currentPaybackAmount interestRate loanTerm loanId loanContractId  \n",
       "0                   25            2       12      0              0  \n",
       "0                   50            2       12      1              1  "
      ]
     },
     "execution_count": 232,
     "metadata": {},
     "output_type": "execute_result"
    }
   ],
   "source": [
    "c.getInvestorLoanContracts(web3.eth.accounts[0])"
   ]
  },
  {
   "cell_type": "code",
   "execution_count": 233,
   "metadata": {},
   "outputs": [
    {
     "data": {
      "text/html": [
       "<div>\n",
       "<style scoped>\n",
       "    .dataframe tbody tr th:only-of-type {\n",
       "        vertical-align: middle;\n",
       "    }\n",
       "\n",
       "    .dataframe tbody tr th {\n",
       "        vertical-align: top;\n",
       "    }\n",
       "\n",
       "    .dataframe thead th {\n",
       "        text-align: right;\n",
       "    }\n",
       "</style>\n",
       "<table border=\"1\" class=\"dataframe\">\n",
       "  <thead>\n",
       "    <tr style=\"text-align: right;\">\n",
       "      <th></th>\n",
       "      <th>borrowerPublicKey</th>\n",
       "      <th>investorPublicKey</th>\n",
       "      <th>originalInvestmentAmount</th>\n",
       "      <th>currentPaybackAmount</th>\n",
       "      <th>interestRate</th>\n",
       "      <th>loanTerm</th>\n",
       "      <th>loanId</th>\n",
       "      <th>loanContractId</th>\n",
       "    </tr>\n",
       "  </thead>\n",
       "  <tbody>\n",
       "    <tr>\n",
       "      <th>0</th>\n",
       "      <td>0x73b96EcBb2FabE945Be6781507e1320F3538Cd2e</td>\n",
       "      <td>0x06F3D5DeDFC5af55D8fb7CA9d6Cc19B86e782D26</td>\n",
       "      <td>100</td>\n",
       "      <td>25</td>\n",
       "      <td>2</td>\n",
       "      <td>12</td>\n",
       "      <td>0</td>\n",
       "      <td>0</td>\n",
       "    </tr>\n",
       "    <tr>\n",
       "      <th>0</th>\n",
       "      <td>0x73b96EcBb2FabE945Be6781507e1320F3538Cd2e</td>\n",
       "      <td>0x45DDA7f8e1CA4F0F216501Af17D04c20A786Bde5</td>\n",
       "      <td>100</td>\n",
       "      <td>100</td>\n",
       "      <td>2</td>\n",
       "      <td>12</td>\n",
       "      <td>0</td>\n",
       "      <td>2</td>\n",
       "    </tr>\n",
       "    <tr>\n",
       "      <th>0</th>\n",
       "      <td>0x73b96EcBb2FabE945Be6781507e1320F3538Cd2e</td>\n",
       "      <td>0x06F3D5DeDFC5af55D8fb7CA9d6Cc19B86e782D26</td>\n",
       "      <td>50</td>\n",
       "      <td>50</td>\n",
       "      <td>2</td>\n",
       "      <td>12</td>\n",
       "      <td>1</td>\n",
       "      <td>1</td>\n",
       "    </tr>\n",
       "  </tbody>\n",
       "</table>\n",
       "</div>"
      ],
      "text/plain": [
       "                            borrowerPublicKey  \\\n",
       "0  0x73b96EcBb2FabE945Be6781507e1320F3538Cd2e   \n",
       "0  0x73b96EcBb2FabE945Be6781507e1320F3538Cd2e   \n",
       "0  0x73b96EcBb2FabE945Be6781507e1320F3538Cd2e   \n",
       "\n",
       "                            investorPublicKey originalInvestmentAmount  \\\n",
       "0  0x06F3D5DeDFC5af55D8fb7CA9d6Cc19B86e782D26                      100   \n",
       "0  0x45DDA7f8e1CA4F0F216501Af17D04c20A786Bde5                      100   \n",
       "0  0x06F3D5DeDFC5af55D8fb7CA9d6Cc19B86e782D26                       50   \n",
       "\n",
       "  currentPaybackAmount interestRate loanTerm loanId loanContractId  \n",
       "0                   25            2       12      0              0  \n",
       "0                  100            2       12      0              2  \n",
       "0                   50            2       12      1              1  "
      ]
     },
     "execution_count": 233,
     "metadata": {},
     "output_type": "execute_result"
    }
   ],
   "source": [
    "c.get_investor_payback_by_borrower_address(web3.eth.accounts[6]) #Pass in borrower who has loans and see who they need to payback"
   ]
  },
  {
   "cell_type": "code",
   "execution_count": 234,
   "metadata": {},
   "outputs": [],
   "source": [
    "message = c.contract.functions._paybackInvestor(1,1,40).transact({'from':web3.eth.accounts[6]})\n",
    "message_receipt = web3.eth.wait_for_transaction_receipt(message)"
   ]
  },
  {
   "cell_type": "code",
   "execution_count": 235,
   "metadata": {},
   "outputs": [
    {
     "data": {
      "text/html": [
       "<div>\n",
       "<style scoped>\n",
       "    .dataframe tbody tr th:only-of-type {\n",
       "        vertical-align: middle;\n",
       "    }\n",
       "\n",
       "    .dataframe tbody tr th {\n",
       "        vertical-align: top;\n",
       "    }\n",
       "\n",
       "    .dataframe thead th {\n",
       "        text-align: right;\n",
       "    }\n",
       "</style>\n",
       "<table border=\"1\" class=\"dataframe\">\n",
       "  <thead>\n",
       "    <tr style=\"text-align: right;\">\n",
       "      <th></th>\n",
       "      <th>borrowerPublicKey</th>\n",
       "      <th>investorPublicKey</th>\n",
       "      <th>originalInvestmentAmount</th>\n",
       "      <th>currentPaybackAmount</th>\n",
       "      <th>interestRate</th>\n",
       "      <th>loanTerm</th>\n",
       "      <th>loanId</th>\n",
       "      <th>loanContractId</th>\n",
       "    </tr>\n",
       "  </thead>\n",
       "  <tbody>\n",
       "    <tr>\n",
       "      <th>0</th>\n",
       "      <td>0x73b96EcBb2FabE945Be6781507e1320F3538Cd2e</td>\n",
       "      <td>0x06F3D5DeDFC5af55D8fb7CA9d6Cc19B86e782D26</td>\n",
       "      <td>100</td>\n",
       "      <td>25</td>\n",
       "      <td>2</td>\n",
       "      <td>12</td>\n",
       "      <td>0</td>\n",
       "      <td>0</td>\n",
       "    </tr>\n",
       "    <tr>\n",
       "      <th>0</th>\n",
       "      <td>0x73b96EcBb2FabE945Be6781507e1320F3538Cd2e</td>\n",
       "      <td>0x45DDA7f8e1CA4F0F216501Af17D04c20A786Bde5</td>\n",
       "      <td>100</td>\n",
       "      <td>100</td>\n",
       "      <td>2</td>\n",
       "      <td>12</td>\n",
       "      <td>0</td>\n",
       "      <td>2</td>\n",
       "    </tr>\n",
       "    <tr>\n",
       "      <th>0</th>\n",
       "      <td>0x73b96EcBb2FabE945Be6781507e1320F3538Cd2e</td>\n",
       "      <td>0x06F3D5DeDFC5af55D8fb7CA9d6Cc19B86e782D26</td>\n",
       "      <td>50</td>\n",
       "      <td>10</td>\n",
       "      <td>2</td>\n",
       "      <td>12</td>\n",
       "      <td>1</td>\n",
       "      <td>1</td>\n",
       "    </tr>\n",
       "  </tbody>\n",
       "</table>\n",
       "</div>"
      ],
      "text/plain": [
       "                            borrowerPublicKey  \\\n",
       "0  0x73b96EcBb2FabE945Be6781507e1320F3538Cd2e   \n",
       "0  0x73b96EcBb2FabE945Be6781507e1320F3538Cd2e   \n",
       "0  0x73b96EcBb2FabE945Be6781507e1320F3538Cd2e   \n",
       "\n",
       "                            investorPublicKey originalInvestmentAmount  \\\n",
       "0  0x06F3D5DeDFC5af55D8fb7CA9d6Cc19B86e782D26                      100   \n",
       "0  0x45DDA7f8e1CA4F0F216501Af17D04c20A786Bde5                      100   \n",
       "0  0x06F3D5DeDFC5af55D8fb7CA9d6Cc19B86e782D26                       50   \n",
       "\n",
       "  currentPaybackAmount interestRate loanTerm loanId loanContractId  \n",
       "0                   25            2       12      0              0  \n",
       "0                  100            2       12      0              2  \n",
       "0                   10            2       12      1              1  "
      ]
     },
     "execution_count": 235,
     "metadata": {},
     "output_type": "execute_result"
    }
   ],
   "source": [
    "c.get_investor_payback_by_borrower_address(web3.eth.accounts[6]) #Pass in borrower who has loans and see who they need to payback"
   ]
  },
  {
   "cell_type": "code",
   "execution_count": null,
   "metadata": {},
   "outputs": [],
   "source": []
  },
  {
   "cell_type": "code",
   "execution_count": null,
   "metadata": {},
   "outputs": [],
   "source": []
  },
  {
   "cell_type": "markdown",
   "metadata": {},
   "source": [
    "<h4>Scratch Work:</h4>"
   ]
  },
  {
   "cell_type": "code",
   "execution_count": null,
   "metadata": {},
   "outputs": [],
   "source": []
  },
  {
   "cell_type": "code",
   "execution_count": null,
   "metadata": {},
   "outputs": [],
   "source": []
  },
  {
   "cell_type": "code",
   "execution_count": 132,
   "metadata": {},
   "outputs": [
    {
     "data": {
      "text/plain": [
       "['MIKE', 'JOSH', 'Elroy', 'Francois']"
      ]
     },
     "execution_count": 132,
     "metadata": {},
     "output_type": "execute_result"
    }
   ],
   "source": [
    "#c.contract.functions.getBorrowerNames().call()"
   ]
  },
  {
   "cell_type": "code",
   "execution_count": null,
   "metadata": {},
   "outputs": [],
   "source": []
  },
  {
   "cell_type": "code",
   "execution_count": 138,
   "metadata": {},
   "outputs": [
    {
     "data": {
      "text/plain": [
       "2"
      ]
     },
     "execution_count": 138,
     "metadata": {},
     "output_type": "execute_result"
    }
   ],
   "source": [
    "c.contract.functions.getTotalNumInvestors().call()"
   ]
  },
  {
   "cell_type": "code",
   "execution_count": 95,
   "metadata": {},
   "outputs": [
    {
     "name": "stdout",
     "output_type": "stream",
     "text": [
      "                            borrowerPublicKey firstName lastName  \\\n",
      "0  0x4f3CC9d7c342b5B037034e8f7bD1989FCD823F8B  Francois    Tyler   \n",
      "\n",
      "  accountBalance numLoans borrowerId Exists  \n",
      "0          85000        0          3   True  \n",
      "\n",
      "                            borrowerPublicKey firstName lastName  \\\n",
      "0  0x2b3812162f640A01bd86317D88b38b633a41A3aa      MIKE    LUCAS   \n",
      "\n",
      "  accountBalance numLoans borrowerId Exists  \n",
      "0          50000        0          0   True  \n"
     ]
    }
   ],
   "source": [
    "c = contractConnector(blockchain_address,compiled_contract_path,deployed_contract_address,defaultAccount)\n",
    "print(c.get_borrrower_struct_info(3))\n",
    "print()\n",
    "print(c.get_borrrower_struct_info(None,'0x2b3812162f640A01bd86317D88b38b633a41A3aa'))"
   ]
  },
  {
   "cell_type": "code",
   "execution_count": 63,
   "metadata": {},
   "outputs": [
    {
     "data": {
      "text/html": [
       "<div>\n",
       "<style scoped>\n",
       "    .dataframe tbody tr th:only-of-type {\n",
       "        vertical-align: middle;\n",
       "    }\n",
       "\n",
       "    .dataframe tbody tr th {\n",
       "        vertical-align: top;\n",
       "    }\n",
       "\n",
       "    .dataframe thead th {\n",
       "        text-align: right;\n",
       "    }\n",
       "</style>\n",
       "<table border=\"1\" class=\"dataframe\">\n",
       "  <thead>\n",
       "    <tr style=\"text-align: right;\">\n",
       "      <th></th>\n",
       "      <th>borrowerPublicKey</th>\n",
       "      <th>firstName</th>\n",
       "      <th>lastName</th>\n",
       "      <th>accountBalance</th>\n",
       "      <th>numLoans</th>\n",
       "      <th>borrowerId</th>\n",
       "      <th>Exists</th>\n",
       "    </tr>\n",
       "  </thead>\n",
       "  <tbody>\n",
       "    <tr>\n",
       "      <th>0</th>\n",
       "      <td>0x2b3812162f640A01bd86317D88b38b633a41A3aa</td>\n",
       "      <td>MIKE</td>\n",
       "      <td>LUCAS</td>\n",
       "      <td>50000</td>\n",
       "      <td>0</td>\n",
       "      <td>0</td>\n",
       "      <td>True</td>\n",
       "    </tr>\n",
       "  </tbody>\n",
       "</table>\n",
       "</div>"
      ],
      "text/plain": [
       "                            borrowerPublicKey firstName lastName  \\\n",
       "0  0x2b3812162f640A01bd86317D88b38b633a41A3aa      MIKE    LUCAS   \n",
       "\n",
       "  accountBalance numLoans borrowerId Exists  \n",
       "0          50000        0          0   True  "
      ]
     },
     "execution_count": 63,
     "metadata": {},
     "output_type": "execute_result"
    }
   ],
   "source": [
    "#Get some borrower struct information\n",
    "borrower_struct = pd.DataFrame(c.contract.functions.borrowers(0).call()).T\n",
    "borrower_struct.columns = [\"borrowerPublicKey\",\"firstName\",\"lastName\",\"accountBalance\",\"numLoans\",\"borrowerId\",\"Exists\"]\n",
    "borrower_struct"
   ]
  },
  {
   "cell_type": "code",
   "execution_count": 28,
   "metadata": {},
   "outputs": [],
   "source": [
    "blockchain_address = 'http://127.0.0.1:8545'\n",
    "# Client instance to interact with the blockchain\n",
    "web3 = Web3(HTTPProvider(blockchain_address))\n",
    "# Set the default account (so we don't need to set the \"from\" for every transaction call)\n",
    "web3.eth.defaultAccount = web3.eth.accounts[0]"
   ]
  },
  {
   "cell_type": "code",
   "execution_count": 29,
   "metadata": {},
   "outputs": [
    {
     "data": {
      "text/plain": [
       "'0x2b3812162f640A01bd86317D88b38b633a41A3aa'"
      ]
     },
     "execution_count": 29,
     "metadata": {},
     "output_type": "execute_result"
    }
   ],
   "source": [
    "web3.eth.defaultAccount"
   ]
  },
  {
   "cell_type": "code",
   "execution_count": 30,
   "metadata": {},
   "outputs": [],
   "source": [
    "# Path to the compiled contract JSON file\n",
    "#compiled_contract_path = '../build/contracts/P2PLending.json'\n",
    "compiled_contract_path = '../build/contracts/P2PTest.json'\n",
    "# Deployed contract address (see `migrate` command output: `contract address`)\n",
    "deployed_contract_address = '0x817ff792Dd041caa93Dbe1f419eCce6BFA610939'"
   ]
  },
  {
   "cell_type": "code",
   "execution_count": 31,
   "metadata": {},
   "outputs": [],
   "source": [
    "with open(compiled_contract_path) as file:\n",
    "    contract_json = json.load(file)  # load contract info as JSON\n",
    "    contract_abi = contract_json['abi']  # fetch contract's abi - necessary to call its functions\n"
   ]
  },
  {
   "cell_type": "code",
   "execution_count": 32,
   "metadata": {},
   "outputs": [],
   "source": [
    "# Fetch deployed contract reference\n",
    "contract = web3.eth.contract(address=deployed_contract_address, abi=contract_abi)\n",
    "\n",
    "# Call contract function (this is not persisted to the blockchain)\n",
    "#message = contract.functions.sayHello().call()\n",
    "\n",
    "#print(message)"
   ]
  },
  {
   "cell_type": "code",
   "execution_count": 33,
   "metadata": {},
   "outputs": [
    {
     "data": {
      "text/plain": [
       "True"
      ]
     },
     "execution_count": 33,
     "metadata": {},
     "output_type": "execute_result"
    }
   ],
   "source": [
    "web3.isConnected()"
   ]
  },
  {
   "cell_type": "code",
   "execution_count": 34,
   "metadata": {},
   "outputs": [],
   "source": [
    "#tx_hash = greeter.functions.setGreeting('Nihao').transact()\n",
    "#>>> tx_receipt = w3.eth.wait_for_transaction_receipt(tx_hash)\n",
    "#>>> greeter.functions.greet().call()\n",
    "#'Nihao'\n",
    "message = contract.functions.createBorrower(\"MIKE\", \"LUCAS\", 50000).transact({'from': web3.eth.accounts[0]})\n",
    "message_receipt = web3.eth.wait_for_transaction_receipt(message)\n",
    "\n",
    "\n",
    "message = contract.functions.createBorrower(\"JOSH\", \"ABELMAN\", 50000).transact({'from': web3.eth.accounts[1]})\n",
    "message_receipt = web3.eth.wait_for_transaction_receipt(message)"
   ]
  },
  {
   "cell_type": "code",
   "execution_count": 19,
   "metadata": {},
   "outputs": [],
   "source": [
    "#message_receipt"
   ]
  },
  {
   "cell_type": "code",
   "execution_count": 35,
   "metadata": {},
   "outputs": [
    {
     "data": {
      "text/plain": [
       "['MIKE', 'JOSH']"
      ]
     },
     "execution_count": 35,
     "metadata": {},
     "output_type": "execute_result"
    }
   ],
   "source": [
    "contract.functions.getBorrowerNames().call()"
   ]
  },
  {
   "cell_type": "code",
   "execution_count": 36,
   "metadata": {},
   "outputs": [
    {
     "data": {
      "text/plain": [
       "'0x8355C08DF3010848F350d741c1edd3B4033ED5E9'"
      ]
     },
     "execution_count": 36,
     "metadata": {},
     "output_type": "execute_result"
    }
   ],
   "source": [
    "contract.functions.borrowerToOwner(1).call()"
   ]
  },
  {
   "cell_type": "code",
   "execution_count": 37,
   "metadata": {},
   "outputs": [
    {
     "data": {
      "text/plain": [
       "1"
      ]
     },
     "execution_count": 37,
     "metadata": {},
     "output_type": "execute_result"
    }
   ],
   "source": [
    "contract.functions.borrower(web3.eth.accounts[1]).call()"
   ]
  },
  {
   "cell_type": "code",
   "execution_count": 38,
   "metadata": {},
   "outputs": [
    {
     "data": {
      "text/plain": [
       "'0x8355C08DF3010848F350d741c1edd3B4033ED5E9'"
      ]
     },
     "execution_count": 38,
     "metadata": {},
     "output_type": "execute_result"
    }
   ],
   "source": [
    "contract.functions.borrowerToOwner(1).call({'from': web3.eth.accounts[0]})"
   ]
  },
  {
   "cell_type": "code",
   "execution_count": null,
   "metadata": {},
   "outputs": [],
   "source": []
  }
 ],
 "metadata": {
  "kernelspec": {
   "display_name": "Python 3",
   "language": "python",
   "name": "python3"
  },
  "language_info": {
   "codemirror_mode": {
    "name": "ipython",
    "version": 3
   },
   "file_extension": ".py",
   "mimetype": "text/x-python",
   "name": "python",
   "nbconvert_exporter": "python",
   "pygments_lexer": "ipython3",
   "version": "3.7.10"
  }
 },
 "nbformat": 4,
 "nbformat_minor": 4
}
